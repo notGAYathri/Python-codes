{
  "nbformat": 4,
  "nbformat_minor": 0,
  "metadata": {
    "colab": {
      "provenance": [],
      "authorship_tag": "ABX9TyOsR7KlVGVteCT5k1NByiPG",
      "include_colab_link": true
    },
    "kernelspec": {
      "name": "python3",
      "display_name": "Python 3"
    },
    "language_info": {
      "name": "python"
    }
  },
  "cells": [
    {
      "cell_type": "markdown",
      "metadata": {
        "id": "view-in-github",
        "colab_type": "text"
      },
      "source": [
        "<a href=\"https://colab.research.google.com/github/notGAYathri/Python-codes/blob/main/Python_6.ipynb\" target=\"_parent\"><img src=\"https://colab.research.google.com/assets/colab-badge.svg\" alt=\"Open In Colab\"/></a>"
      ]
    },
    {
      "cell_type": "code",
      "execution_count": 1,
      "metadata": {
        "id": "csLrQQCA7h0T"
      },
      "outputs": [],
      "source": [
        "def tts():\n",
        "  print(\"Tired Tired Sea\")"
      ]
    },
    {
      "cell_type": "code",
      "source": [
        "tts()"
      ],
      "metadata": {
        "colab": {
          "base_uri": "https://localhost:8080/"
        },
        "id": "pBO5b7xg7i0T",
        "outputId": "4556b32c-869b-4269-dc31-ecef312e53ca"
      },
      "execution_count": 2,
      "outputs": [
        {
          "output_type": "stream",
          "name": "stdout",
          "text": [
            "Tired Tired Sea\n"
          ]
        }
      ]
    },
    {
      "cell_type": "code",
      "source": [
        "def tts(x,y):\n",
        "  print(x,\"and\",y)\n",
        "tts(\"Harry\",\"Louis\")"
      ],
      "metadata": {
        "colab": {
          "base_uri": "https://localhost:8080/"
        },
        "id": "D8XkpYa97ln3",
        "outputId": "e3d86c15-495a-4629-b5e8-49a2fd127d8c"
      },
      "execution_count": 3,
      "outputs": [
        {
          "output_type": "stream",
          "name": "stdout",
          "text": [
            "Harry and Louis\n"
          ]
        }
      ]
    },
    {
      "cell_type": "code",
      "source": [
        "def tts(*x): # * represents arbitary number of arguments ie,any number of arguments\n"
      ],
      "metadata": {
        "id": "_a2fz9nE7rii"
      },
      "execution_count": null,
      "outputs": []
    },
    {
      "cell_type": "code",
      "source": [
        "def fifa():\n",
        "  print(\"Fifa World Cup 2022\")\n",
        "\n",
        "fifa()"
      ],
      "metadata": {
        "colab": {
          "base_uri": "https://localhost:8080/"
        },
        "id": "lzi7cx_y7uh7",
        "outputId": "3e9dcd9e-123d-4f7a-a572-13c1bf5f42e8"
      },
      "execution_count": 4,
      "outputs": [
        {
          "output_type": "stream",
          "name": "stdout",
          "text": [
            "Fifa World Cup 2022\n"
          ]
        }
      ]
    },
    {
      "cell_type": "code",
      "source": [
        "def  namies(x,y,z):\n",
        "  print(x,y,z)\n",
        "\n",
        "x=input(\"enter first name:\")\n",
        "y=input(\"enter middle name:\")\n",
        "z=input(\"enter last name:\")\n",
        "\n",
        "namies(x,y,z)"
      ],
      "metadata": {
        "colab": {
          "base_uri": "https://localhost:8080/"
        },
        "id": "z7QyJaAQ7zAp",
        "outputId": "84b0e471-2436-4526-fe14-0a84cf0df996"
      },
      "execution_count": 5,
      "outputs": [
        {
          "output_type": "stream",
          "name": "stdout",
          "text": [
            "enter first name:Niall\n",
            "enter middle name:James\n",
            "enter last name:Horan\n",
            "Niall James Horan\n"
          ]
        }
      ]
    },
    {
      "cell_type": "code",
      "source": [
        "def  namess(x,y,z):\n",
        "  print(z,x,y)\n",
        "\n",
        "x=input(\"enter first name:\")\n",
        "y=input(\"enter middle name:\")\n",
        "z=input(\"enter last name:\")\n",
        "\n",
        "namess(x,y,z)"
      ],
      "metadata": {
        "colab": {
          "base_uri": "https://localhost:8080/"
        },
        "id": "dcpc1Lpp73Ix",
        "outputId": "0d757ee2-d3e1-437b-ee9c-8a7b6d96f9e7"
      },
      "execution_count": 6,
      "outputs": [
        {
          "output_type": "stream",
          "name": "stdout",
          "text": [
            "enter first name:Liam\n",
            "enter middle name:James\n",
            "enter last name:Payne\n",
            "Payne Liam James\n"
          ]
        }
      ]
    },
    {
      "cell_type": "code",
      "source": [
        "def fav_celebs( cutee = \"Zayn\"):\n",
        "  print(cutee + \" is cuteee!\")\n",
        "\n",
        "fav_celebs(\"Harry\")\n",
        "fav_celebs(\"Louis\")\n",
        "fav_celebs(\"Niall\")\n",
        "fav_celebs(\"Liam\")\n",
        "fav_celebs()\n"
      ],
      "metadata": {
        "colab": {
          "base_uri": "https://localhost:8080/"
        },
        "id": "Q4Os-CB379zo",
        "outputId": "6ba14d70-fc11-4599-8c69-0d936b94a615"
      },
      "execution_count": 7,
      "outputs": [
        {
          "output_type": "stream",
          "name": "stdout",
          "text": [
            "Harry is cuteee!\n",
            "Louis is cuteee!\n",
            "Niall is cuteee!\n",
            "Liam is cuteee!\n",
            "Zayn is cuteee!\n"
          ]
        }
      ]
    },
    {
      "cell_type": "code",
      "source": [
        "def mypoliceman(x):\n",
        "  for i in x:\n",
        "    print(i)\n",
        "\n",
        "k=[\"Patrick\",\"Tom\",\"Marion\"]\n",
        "mypoliceman(k)"
      ],
      "metadata": {
        "colab": {
          "base_uri": "https://localhost:8080/"
        },
        "id": "Ztds_-lp8GRa",
        "outputId": "ae29c124-55ce-4003-abc6-f16e6fa96f9d"
      },
      "execution_count": 8,
      "outputs": [
        {
          "output_type": "stream",
          "name": "stdout",
          "text": [
            "Patrick\n",
            "Tom\n",
            "Marion\n"
          ]
        }
      ]
    },
    {
      "cell_type": "code",
      "source": [
        "def fact(x):\n",
        "  if x <= 1:\n",
        "    return x\n",
        "  else:\n",
        "    return(fact(x-1)*x)\n",
        "print(fact(10))"
      ],
      "metadata": {
        "colab": {
          "base_uri": "https://localhost:8080/"
        },
        "id": "UfesJBiC8Kl6",
        "outputId": "f4d5fbae-ad28-4e95-db3f-c48d0ded6c0e"
      },
      "execution_count": 9,
      "outputs": [
        {
          "output_type": "stream",
          "name": "stdout",
          "text": [
            "3628800\n"
          ]
        }
      ]
    },
    {
      "cell_type": "code",
      "source": [
        "\n"
      ],
      "metadata": {
        "id": "QzM8yOmh8Nkq"
      },
      "execution_count": 10,
      "outputs": []
    },
    {
      "cell_type": "code",
      "source": [],
      "metadata": {
        "id": "a-ZGBQqN8nsM"
      },
      "execution_count": null,
      "outputs": []
    }
  ]
}