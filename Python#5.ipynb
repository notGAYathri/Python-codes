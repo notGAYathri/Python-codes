{
  "nbformat": 4,
  "nbformat_minor": 0,
  "metadata": {
    "colab": {
      "provenance": [],
      "authorship_tag": "ABX9TyO2zProCgQmQHCU2+pYz/K4",
      "include_colab_link": true
    },
    "kernelspec": {
      "name": "python3",
      "display_name": "Python 3"
    },
    "language_info": {
      "name": "python"
    }
  },
  "cells": [
    {
      "cell_type": "markdown",
      "metadata": {
        "id": "view-in-github",
        "colab_type": "text"
      },
      "source": [
        "<a href=\"https://colab.research.google.com/github/notGAYathri/Python-codes/blob/main/Python%235.ipynb\" target=\"_parent\"><img src=\"https://colab.research.google.com/assets/colab-badge.svg\" alt=\"Open In Colab\"/></a>"
      ]
    },
    {
      "cell_type": "code",
      "execution_count": 2,
      "metadata": {
        "colab": {
          "base_uri": "https://localhost:8080/"
        },
        "id": "8eztRYvpMRS_",
        "outputId": "51d669d8-2cd0-41af-9417-9c9ed5164fd9"
      },
      "outputs": [
        {
          "output_type": "execute_result",
          "data": {
            "text/plain": [
              "int"
            ]
          },
          "metadata": {},
          "execution_count": 2
        }
      ],
      "source": [
        "x=10\n",
        "type(x)"
      ]
    },
    {
      "cell_type": "code",
      "source": [
        "a=\"sleep\""
      ],
      "metadata": {
        "id": "b2vhHeYSMSYj"
      },
      "execution_count": 3,
      "outputs": []
    },
    {
      "cell_type": "code",
      "source": [
        "type(a)"
      ],
      "metadata": {
        "colab": {
          "base_uri": "https://localhost:8080/"
        },
        "id": "afSpbRAwMbRC",
        "outputId": "83045cff-eb27-4aad-f653-9c7e2437267b"
      },
      "execution_count": 4,
      "outputs": [
        {
          "output_type": "execute_result",
          "data": {
            "text/plain": [
              "str"
            ]
          },
          "metadata": {},
          "execution_count": 4
        }
      ]
    },
    {
      "cell_type": "code",
      "source": [
        "a=10.45"
      ],
      "metadata": {
        "id": "z9cQkryVMdz_"
      },
      "execution_count": 5,
      "outputs": []
    },
    {
      "cell_type": "code",
      "source": [
        "type(a)"
      ],
      "metadata": {
        "colab": {
          "base_uri": "https://localhost:8080/"
        },
        "id": "DROUoP65Mf4X",
        "outputId": "7cf403d6-9610-4bf1-d4ce-3d7af23d06a4"
      },
      "execution_count": 6,
      "outputs": [
        {
          "output_type": "execute_result",
          "data": {
            "text/plain": [
              "float"
            ]
          },
          "metadata": {},
          "execution_count": 6
        }
      ]
    },
    {
      "cell_type": "code",
      "source": [
        "type(10.45+7)"
      ],
      "metadata": {
        "colab": {
          "base_uri": "https://localhost:8080/"
        },
        "id": "NQ5V1nn_MhyH",
        "outputId": "9bdd9e05-29f0-443d-d338-496befdafb29"
      },
      "execution_count": 7,
      "outputs": [
        {
          "output_type": "execute_result",
          "data": {
            "text/plain": [
              "float"
            ]
          },
          "metadata": {},
          "execution_count": 7
        }
      ]
    },
    {
      "cell_type": "code",
      "source": [
        "y=[12,3,67,45,9]\n",
        "type(y)"
      ],
      "metadata": {
        "colab": {
          "base_uri": "https://localhost:8080/"
        },
        "id": "VtB8SOPlMjnn",
        "outputId": "31849bc4-a283-46f0-f4ef-350373b5ba68"
      },
      "execution_count": 8,
      "outputs": [
        {
          "output_type": "execute_result",
          "data": {
            "text/plain": [
              "list"
            ]
          },
          "metadata": {},
          "execution_count": 8
        }
      ]
    },
    {
      "cell_type": "code",
      "source": [
        "c=10 + 3j\n",
        "type(c)"
      ],
      "metadata": {
        "colab": {
          "base_uri": "https://localhost:8080/"
        },
        "id": "OLFbdIjXMpkn",
        "outputId": "7b2e4900-369d-413e-b201-de0d9041f164"
      },
      "execution_count": 9,
      "outputs": [
        {
          "output_type": "execute_result",
          "data": {
            "text/plain": [
              "complex"
            ]
          },
          "metadata": {},
          "execution_count": 9
        }
      ]
    },
    {
      "cell_type": "code",
      "source": [
        "mabishes=[\"Rose\",\"Kichu\",\"Amna\",\"Zahira\",\"Adithya\",\"Joyce\",\"Veenus\",\"Sneha\",\"Meryl\"]"
      ],
      "metadata": {
        "id": "jPsYG7MmMuRc"
      },
      "execution_count": 10,
      "outputs": []
    },
    {
      "cell_type": "code",
      "source": [
        "type(mabishes)"
      ],
      "metadata": {
        "colab": {
          "base_uri": "https://localhost:8080/"
        },
        "id": "1Y22_5bmMwz-",
        "outputId": "811847cb-7241-4203-cf4c-c4eaf082ef95"
      },
      "execution_count": 11,
      "outputs": [
        {
          "output_type": "execute_result",
          "data": {
            "text/plain": [
              "list"
            ]
          },
          "metadata": {},
          "execution_count": 11
        }
      ]
    },
    {
      "cell_type": "code",
      "source": [
        "a=\" *in jerril's voice* THIS IS RAJAGIRI! WE GOT IN BY MERIT!\""
      ],
      "metadata": {
        "id": "UNq_lPU7MzKc"
      },
      "execution_count": 13,
      "outputs": []
    },
    {
      "cell_type": "code",
      "source": [
        "print(a)"
      ],
      "metadata": {
        "colab": {
          "base_uri": "https://localhost:8080/"
        },
        "id": "3XssM_WHM4AM",
        "outputId": "eb3814e4-cec2-4d0b-9eba-1b6b96e6e0f4"
      },
      "execution_count": 14,
      "outputs": [
        {
          "output_type": "stream",
          "name": "stdout",
          "text": [
            " *in jerril's voice* THIS IS RAJAGIRI! WE GOT IN BY MERIT!\n"
          ]
        }
      ]
    },
    {
      "cell_type": "code",
      "source": [
        "type(mabishes)"
      ],
      "metadata": {
        "colab": {
          "base_uri": "https://localhost:8080/"
        },
        "id": "IltDjnzjM9Cx",
        "outputId": "e3100744-9c8b-4ab9-bb23-f9b8d87b1c7c"
      },
      "execution_count": 15,
      "outputs": [
        {
          "output_type": "execute_result",
          "data": {
            "text/plain": [
              "list"
            ]
          },
          "metadata": {},
          "execution_count": 15
        }
      ]
    },
    {
      "cell_type": "code",
      "source": [
        "grades=[10,30,50,\"varun\"]\n",
        "print(grades)"
      ],
      "metadata": {
        "colab": {
          "base_uri": "https://localhost:8080/"
        },
        "id": "I4kqO6fjNBO8",
        "outputId": "823722aa-d610-41d9-bc76-fca953f604f3"
      },
      "execution_count": 16,
      "outputs": [
        {
          "output_type": "stream",
          "name": "stdout",
          "text": [
            "[10, 30, 50, 'varun']\n"
          ]
        }
      ]
    },
    {
      "cell_type": "code",
      "source": [
        "print(grades[3])"
      ],
      "metadata": {
        "colab": {
          "base_uri": "https://localhost:8080/"
        },
        "id": "X9FJp91_NGEf",
        "outputId": "2d0fdcb4-c9d2-4b8c-a4b9-42a14734cd8e"
      },
      "execution_count": 17,
      "outputs": [
        {
          "output_type": "stream",
          "name": "stdout",
          "text": [
            "varun\n"
          ]
        }
      ]
    },
    {
      "cell_type": "code",
      "source": [
        "print(mabishes[0])"
      ],
      "metadata": {
        "colab": {
          "base_uri": "https://localhost:8080/"
        },
        "id": "MUqyko35NIMJ",
        "outputId": "a6303068-224f-42ef-8bfe-3b6c2e0c0481"
      },
      "execution_count": 18,
      "outputs": [
        {
          "output_type": "stream",
          "name": "stdout",
          "text": [
            "Rose\n"
          ]
        }
      ]
    },
    {
      "cell_type": "code",
      "source": [
        "myidiots=[\"Mahima\",\"Samuel\",\"Avni\",\"Parvathi\"]"
      ],
      "metadata": {
        "id": "mq3fzw6qNKnQ"
      },
      "execution_count": 19,
      "outputs": []
    },
    {
      "cell_type": "code",
      "source": [
        "print(myidiots[-1])"
      ],
      "metadata": {
        "colab": {
          "base_uri": "https://localhost:8080/"
        },
        "id": "6P5t3u5KNNg4",
        "outputId": "d8cbac22-2e45-454d-b17a-bc88ba2510f4"
      },
      "execution_count": 20,
      "outputs": [
        {
          "output_type": "stream",
          "name": "stdout",
          "text": [
            "Parvathi\n"
          ]
        }
      ]
    },
    {
      "cell_type": "code",
      "source": [
        "print(myidiots[0])"
      ],
      "metadata": {
        "colab": {
          "base_uri": "https://localhost:8080/"
        },
        "id": "UpDHZTVnNPmR",
        "outputId": "8a37b520-eff8-46f2-d961-105c0de144ad"
      },
      "execution_count": 21,
      "outputs": [
        {
          "output_type": "stream",
          "name": "stdout",
          "text": [
            "Mahima\n"
          ]
        }
      ]
    },
    {
      "cell_type": "code",
      "source": [
        "mabishes.pop(-2)"
      ],
      "metadata": {
        "colab": {
          "base_uri": "https://localhost:8080/",
          "height": 35
        },
        "id": "xZlSt8hGNRgI",
        "outputId": "9cd6865e-0bb7-482d-fb9c-be8b78ca4e6b"
      },
      "execution_count": 22,
      "outputs": [
        {
          "output_type": "execute_result",
          "data": {
            "text/plain": [
              "'Sneha'"
            ],
            "application/vnd.google.colaboratory.intrinsic+json": {
              "type": "string"
            }
          },
          "metadata": {},
          "execution_count": 22
        }
      ]
    },
    {
      "cell_type": "code",
      "source": [
        "print(mabishes)"
      ],
      "metadata": {
        "colab": {
          "base_uri": "https://localhost:8080/"
        },
        "id": "X0y8ousbNUeY",
        "outputId": "294c544b-5f6a-4740-dda7-b1481c36d234"
      },
      "execution_count": 23,
      "outputs": [
        {
          "output_type": "stream",
          "name": "stdout",
          "text": [
            "['Rose', 'Kichu', 'Amna', 'Zahira', 'Adithya', 'Joyce', 'Veenus', 'Meryl']\n"
          ]
        }
      ]
    },
    {
      "cell_type": "code",
      "source": [
        "mabishes.pop(5)"
      ],
      "metadata": {
        "colab": {
          "base_uri": "https://localhost:8080/",
          "height": 35
        },
        "id": "xuhmPadHNWcY",
        "outputId": "bee0be46-5eed-4ee2-a21a-bd53c8c2e603"
      },
      "execution_count": 24,
      "outputs": [
        {
          "output_type": "execute_result",
          "data": {
            "text/plain": [
              "'Joyce'"
            ],
            "application/vnd.google.colaboratory.intrinsic+json": {
              "type": "string"
            }
          },
          "metadata": {},
          "execution_count": 24
        }
      ]
    },
    {
      "cell_type": "code",
      "source": [
        "print(mabishes)"
      ],
      "metadata": {
        "colab": {
          "base_uri": "https://localhost:8080/"
        },
        "id": "0KAaltRoNYNG",
        "outputId": "193ce630-bd58-48d2-a724-eab653247aca"
      },
      "execution_count": 25,
      "outputs": [
        {
          "output_type": "stream",
          "name": "stdout",
          "text": [
            "['Rose', 'Kichu', 'Amna', 'Zahira', 'Adithya', 'Veenus', 'Meryl']\n"
          ]
        }
      ]
    },
    {
      "cell_type": "code",
      "source": [
        "mabishes.append(\"Joyce\")"
      ],
      "metadata": {
        "id": "XtPLv_YvNbEm"
      },
      "execution_count": 26,
      "outputs": []
    },
    {
      "cell_type": "code",
      "source": [
        "print(mabishes)"
      ],
      "metadata": {
        "colab": {
          "base_uri": "https://localhost:8080/"
        },
        "id": "0-qQVjZKNeWq",
        "outputId": "df248125-eeb9-4f79-8fdb-56f61b42168d"
      },
      "execution_count": 27,
      "outputs": [
        {
          "output_type": "stream",
          "name": "stdout",
          "text": [
            "['Rose', 'Kichu', 'Amna', 'Zahira', 'Adithya', 'Veenus', 'Meryl', 'Joyce']\n"
          ]
        }
      ]
    },
    {
      "cell_type": "code",
      "source": [
        "mabishes.sort()"
      ],
      "metadata": {
        "id": "UlWB2SxeNg64"
      },
      "execution_count": 28,
      "outputs": []
    },
    {
      "cell_type": "code",
      "source": [
        "print(mabishes)"
      ],
      "metadata": {
        "colab": {
          "base_uri": "https://localhost:8080/"
        },
        "id": "srJichkANi7X",
        "outputId": "edc53171-7f58-4db1-dfea-e43473a6ca50"
      },
      "execution_count": 29,
      "outputs": [
        {
          "output_type": "stream",
          "name": "stdout",
          "text": [
            "['Adithya', 'Amna', 'Joyce', 'Kichu', 'Meryl', 'Rose', 'Veenus', 'Zahira']\n"
          ]
        }
      ]
    },
    {
      "cell_type": "code",
      "source": [
        "mabishes.reverse()"
      ],
      "metadata": {
        "id": "TX9z9m0ANlA-"
      },
      "execution_count": 30,
      "outputs": []
    },
    {
      "cell_type": "code",
      "source": [
        "print(mabishes)"
      ],
      "metadata": {
        "colab": {
          "base_uri": "https://localhost:8080/"
        },
        "id": "xmzqPnLCNngV",
        "outputId": "71a24984-1311-4049-dbc8-36bfa2a865a5"
      },
      "execution_count": 31,
      "outputs": [
        {
          "output_type": "stream",
          "name": "stdout",
          "text": [
            "['Zahira', 'Veenus', 'Rose', 'Meryl', 'Kichu', 'Joyce', 'Amna', 'Adithya']\n"
          ]
        }
      ]
    },
    {
      "cell_type": "code",
      "source": [
        "mabishes.insert(2,\"Simona\")"
      ],
      "metadata": {
        "id": "V7GS17XxNpYl"
      },
      "execution_count": 32,
      "outputs": []
    },
    {
      "cell_type": "code",
      "source": [
        "print(mabishes)"
      ],
      "metadata": {
        "colab": {
          "base_uri": "https://localhost:8080/"
        },
        "id": "R5E2GpEjNrXm",
        "outputId": "bd8aa771-1a5e-49a2-e88c-025c2e0e77da"
      },
      "execution_count": 33,
      "outputs": [
        {
          "output_type": "stream",
          "name": "stdout",
          "text": [
            "['Zahira', 'Veenus', 'Simona', 'Rose', 'Meryl', 'Kichu', 'Joyce', 'Amna', 'Adithya']\n"
          ]
        }
      ]
    },
    {
      "cell_type": "code",
      "source": [
        "friends=mabishes+myidiots\n",
        "print(friends)"
      ],
      "metadata": {
        "colab": {
          "base_uri": "https://localhost:8080/"
        },
        "id": "ST61llTpNvL-",
        "outputId": "281425d3-d142-4832-a023-e4996b691cf9"
      },
      "execution_count": 34,
      "outputs": [
        {
          "output_type": "stream",
          "name": "stdout",
          "text": [
            "['Zahira', 'Veenus', 'Simona', 'Rose', 'Meryl', 'Kichu', 'Joyce', 'Amna', 'Adithya', 'Mahima', 'Samuel', 'Avni', 'Parvathi']\n"
          ]
        }
      ]
    },
    {
      "cell_type": "code",
      "source": [
        "mababies=(\"Niall\",\"Louis\",\"Harry\",\"Zayn\",\"Liam\")\n",
        "type(mababies)"
      ],
      "metadata": {
        "colab": {
          "base_uri": "https://localhost:8080/"
        },
        "id": "1s9tSycMNx_W",
        "outputId": "f4b87283-891f-4706-eb60-5ec91d9d7a49"
      },
      "execution_count": 35,
      "outputs": [
        {
          "output_type": "execute_result",
          "data": {
            "text/plain": [
              "tuple"
            ]
          },
          "metadata": {},
          "execution_count": 35
        }
      ]
    },
    {
      "cell_type": "code",
      "source": [
        "mababies.pop()\n",
        "print(mababies)"
      ],
      "metadata": {
        "colab": {
          "base_uri": "https://localhost:8080/",
          "height": 183
        },
        "id": "6_JFXKHoNz7d",
        "outputId": "15a0941c-4c09-4239-e4db-631e97fdebd1"
      },
      "execution_count": 36,
      "outputs": [
        {
          "output_type": "error",
          "ename": "AttributeError",
          "evalue": "ignored",
          "traceback": [
            "\u001b[0;31m---------------------------------------------------------------------------\u001b[0m",
            "\u001b[0;31mAttributeError\u001b[0m                            Traceback (most recent call last)",
            "\u001b[0;32m<ipython-input-36-9bd4bdda9b09>\u001b[0m in \u001b[0;36m<module>\u001b[0;34m\u001b[0m\n\u001b[0;32m----> 1\u001b[0;31m \u001b[0mmababies\u001b[0m\u001b[0;34m.\u001b[0m\u001b[0mpop\u001b[0m\u001b[0;34m(\u001b[0m\u001b[0;34m)\u001b[0m\u001b[0;34m\u001b[0m\u001b[0;34m\u001b[0m\u001b[0m\n\u001b[0m\u001b[1;32m      2\u001b[0m \u001b[0mprint\u001b[0m\u001b[0;34m(\u001b[0m\u001b[0mmababies\u001b[0m\u001b[0;34m)\u001b[0m\u001b[0;34m\u001b[0m\u001b[0;34m\u001b[0m\u001b[0m\n",
            "\u001b[0;31mAttributeError\u001b[0m: 'tuple' object has no attribute 'pop'"
          ]
        }
      ]
    },
    {
      "cell_type": "code",
      "source": [
        "#therefore list is mutable and tuple is immutable"
      ],
      "metadata": {
        "id": "nLmAiN45N1zE"
      },
      "execution_count": 37,
      "outputs": []
    },
    {
      "cell_type": "code",
      "source": [
        "marks=[14,23,45,27,50]\n",
        "#converting list to set\n",
        "set1=set(marks)"
      ],
      "metadata": {
        "id": "jxvp6eIWN8fz"
      },
      "execution_count": 38,
      "outputs": []
    },
    {
      "cell_type": "code",
      "source": [
        "print(set1)"
      ],
      "metadata": {
        "colab": {
          "base_uri": "https://localhost:8080/"
        },
        "id": "_YFI8LhGN9Bb",
        "outputId": "dd3233c2-9fd2-4542-9f3f-5c1980772f2f"
      },
      "execution_count": 39,
      "outputs": [
        {
          "output_type": "stream",
          "name": "stdout",
          "text": [
            "{45, 14, 50, 23, 27}\n"
          ]
        }
      ]
    },
    {
      "cell_type": "code",
      "source": [
        "#list is [],tuple is () and set is {}"
      ],
      "metadata": {
        "id": "ON4SJgdgN_RE"
      },
      "execution_count": 40,
      "outputs": []
    },
    {
      "cell_type": "code",
      "source": [
        "x={\"flicker\":\"niall\",\"walls\":\"louis\",\"mind of mine\":\"zayn\",\"LP1\":\"liam\",\"fine line\":\"harry\"} #dictionary"
      ],
      "metadata": {
        "id": "-CpsG5kUOBpD"
      },
      "execution_count": 41,
      "outputs": []
    },
    {
      "cell_type": "code",
      "source": [
        "type(x)"
      ],
      "metadata": {
        "colab": {
          "base_uri": "https://localhost:8080/"
        },
        "id": "BY1Tj0-_OEZy",
        "outputId": "defc9c90-e3c3-4fe6-ab5c-6e957757fd9c"
      },
      "execution_count": 42,
      "outputs": [
        {
          "output_type": "execute_result",
          "data": {
            "text/plain": [
              "dict"
            ]
          },
          "metadata": {},
          "execution_count": 42
        }
      ]
    },
    {
      "cell_type": "code",
      "source": [
        "print(x)"
      ],
      "metadata": {
        "colab": {
          "base_uri": "https://localhost:8080/"
        },
        "id": "KdiDqCglOGyz",
        "outputId": "29c843d2-13b2-4e38-e587-1a2328b705bc"
      },
      "execution_count": 43,
      "outputs": [
        {
          "output_type": "stream",
          "name": "stdout",
          "text": [
            "{'flicker': 'niall', 'walls': 'louis', 'mind of mine': 'zayn', 'LP1': 'liam', 'fine line': 'harry'}\n"
          ]
        }
      ]
    },
    {
      "cell_type": "code",
      "source": [
        "x[\"midnight memories\"]= \"one direction\"\n",
        "print(x)"
      ],
      "metadata": {
        "colab": {
          "base_uri": "https://localhost:8080/"
        },
        "id": "8Gs3qF_ZOIdj",
        "outputId": "ead59fe7-f40b-46c8-96e3-1df87876029a"
      },
      "execution_count": 44,
      "outputs": [
        {
          "output_type": "stream",
          "name": "stdout",
          "text": [
            "{'flicker': 'niall', 'walls': 'louis', 'mind of mine': 'zayn', 'LP1': 'liam', 'fine line': 'harry', 'midnight memories': 'one direction'}\n"
          ]
        }
      ]
    },
    {
      "cell_type": "code",
      "source": [
        "x[\"midnight memories\"]=\"1D\"\n",
        "print(x)"
      ],
      "metadata": {
        "colab": {
          "base_uri": "https://localhost:8080/"
        },
        "id": "lAto8RBSOLT6",
        "outputId": "ff6753fc-7f9c-4559-ccae-59e775ebcd15"
      },
      "execution_count": 45,
      "outputs": [
        {
          "output_type": "stream",
          "name": "stdout",
          "text": [
            "{'flicker': 'niall', 'walls': 'louis', 'mind of mine': 'zayn', 'LP1': 'liam', 'fine line': 'harry', 'midnight memories': '1D'}\n"
          ]
        }
      ]
    },
    {
      "cell_type": "code",
      "source": [],
      "metadata": {
        "id": "BkuyVfrIONSD"
      },
      "execution_count": null,
      "outputs": []
    }
  ]
}