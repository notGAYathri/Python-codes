{
  "nbformat": 4,
  "nbformat_minor": 0,
  "metadata": {
    "colab": {
      "provenance": [],
      "collapsed_sections": [],
      "authorship_tag": "ABX9TyPcJe2aD5dhJ4e2aKB3nJjG",
      "include_colab_link": true
    },
    "kernelspec": {
      "name": "python3",
      "display_name": "Python 3"
    },
    "language_info": {
      "name": "python"
    }
  },
  "cells": [
    {
      "cell_type": "markdown",
      "metadata": {
        "id": "view-in-github",
        "colab_type": "text"
      },
      "source": [
        "<a href=\"https://colab.research.google.com/github/notGAYathri/Python-codes/blob/main/Python_1.ipynb\" target=\"_parent\"><img src=\"https://colab.research.google.com/assets/colab-badge.svg\" alt=\"Open In Colab\"/></a>"
      ]
    },
    {
      "cell_type": "code",
      "execution_count": null,
      "metadata": {
        "id": "F_9v8NhNKyGm"
      },
      "outputs": [],
      "source": [
        "x=10"
      ]
    },
    {
      "cell_type": "code",
      "source": [
        "x"
      ],
      "metadata": {
        "colab": {
          "base_uri": "https://localhost:8080/"
        },
        "id": "UaKdatiULhMw",
        "outputId": "f9d5e0db-9887-47e7-c7ba-608c4b464941"
      },
      "execution_count": null,
      "outputs": [
        {
          "output_type": "execute_result",
          "data": {
            "text/plain": [
              "10"
            ]
          },
          "metadata": {},
          "execution_count": 2
        }
      ]
    },
    {
      "cell_type": "code",
      "source": [
        "print(x)"
      ],
      "metadata": {
        "colab": {
          "base_uri": "https://localhost:8080/"
        },
        "id": "iQXjfTc0L-rw",
        "outputId": "ed9de4b1-2982-4ac8-851c-0c7e33b45af3"
      },
      "execution_count": null,
      "outputs": [
        {
          "output_type": "stream",
          "name": "stdout",
          "text": [
            "10\n"
          ]
        }
      ]
    },
    {
      "cell_type": "code",
      "source": [
        "x=12345\n",
        "y=98765"
      ],
      "metadata": {
        "id": "RP7WN54-MA9S"
      },
      "execution_count": null,
      "outputs": []
    },
    {
      "cell_type": "code",
      "source": [
        "print(x,y)"
      ],
      "metadata": {
        "colab": {
          "base_uri": "https://localhost:8080/"
        },
        "id": "Rg_GgD-HMFEZ",
        "outputId": "7709fd2f-65a5-4bbe-9478-d443fc099d77"
      },
      "execution_count": null,
      "outputs": [
        {
          "output_type": "stream",
          "name": "stdout",
          "text": [
            "12345 98765\n"
          ]
        }
      ]
    },
    {
      "cell_type": "code",
      "source": [
        "print(x+y)\n",
        "print(x-y)\n",
        "print(x*y)\n",
        "print(x/y)"
      ],
      "metadata": {
        "colab": {
          "base_uri": "https://localhost:8080/"
        },
        "id": "rAhnKGK0MG-n",
        "outputId": "64886c82-0b38-4c1a-ee85-a32848989205"
      },
      "execution_count": null,
      "outputs": [
        {
          "output_type": "stream",
          "name": "stdout",
          "text": [
            "111110\n",
            "-86420\n",
            "1219253925\n",
            "0.12499367184731433\n"
          ]
        }
      ]
    },
    {
      "cell_type": "code",
      "source": [
        "print(\"hello :)\")"
      ],
      "metadata": {
        "colab": {
          "base_uri": "https://localhost:8080/"
        },
        "id": "MK1kB-YfMTDb",
        "outputId": "e2af6eeb-86d4-45e3-deb7-9acd03fb2af6"
      },
      "execution_count": null,
      "outputs": [
        {
          "output_type": "stream",
          "name": "stdout",
          "text": [
            "hello :)\n"
          ]
        }
      ]
    },
    {
      "cell_type": "code",
      "source": [
        "x+y"
      ],
      "metadata": {
        "colab": {
          "base_uri": "https://localhost:8080/"
        },
        "id": "Jc34NxR0MlnX",
        "outputId": "1c1b930a-b0c3-4a1c-f8a3-6f0ee8160943"
      },
      "execution_count": null,
      "outputs": [
        {
          "output_type": "execute_result",
          "data": {
            "text/plain": [
              "111110"
            ]
          },
          "metadata": {},
          "execution_count": 9
        }
      ]
    },
    {
      "cell_type": "code",
      "source": [
        "x+23"
      ],
      "metadata": {
        "colab": {
          "base_uri": "https://localhost:8080/"
        },
        "id": "2rhn2a1EMpQK",
        "outputId": "995466aa-1ecc-40a6-a705-f27806f91a2a"
      },
      "execution_count": null,
      "outputs": [
        {
          "output_type": "execute_result",
          "data": {
            "text/plain": [
              "12368"
            ]
          },
          "metadata": {},
          "execution_count": 10
        }
      ]
    },
    {
      "cell_type": "code",
      "source": [
        "x=\"karma\"\n",
        "y=\"is the breeze on my hair in the weekend\"\n",
        "print(x+\" \"+y)"
      ],
      "metadata": {
        "colab": {
          "base_uri": "https://localhost:8080/"
        },
        "id": "udMcfo_QMr3p",
        "outputId": "9d62e3c5-934d-4aa1-f7a7-c722e66be3cb"
      },
      "execution_count": null,
      "outputs": [
        {
          "output_type": "stream",
          "name": "stdout",
          "text": [
            "karma is the breeze on my hair in the weekend\n"
          ]
        }
      ]
    },
    {
      "cell_type": "code",
      "source": [
        "x=\"2\"\n",
        "y=\"4\"\n",
        "x+y"
      ],
      "metadata": {
        "colab": {
          "base_uri": "https://localhost:8080/",
          "height": 35
        },
        "id": "NsdSX5UiM5cb",
        "outputId": "e3dd9820-9471-426c-e26d-342540ea64be"
      },
      "execution_count": null,
      "outputs": [
        {
          "output_type": "execute_result",
          "data": {
            "text/plain": [
              "'24'"
            ],
            "application/vnd.google.colaboratory.intrinsic+json": {
              "type": "string"
            }
          },
          "metadata": {},
          "execution_count": 13
        }
      ]
    },
    {
      "cell_type": "code",
      "source": [
        "x=10\n",
        "type(x)"
      ],
      "metadata": {
        "colab": {
          "base_uri": "https://localhost:8080/"
        },
        "id": "Mzg6Az4rNKAX",
        "outputId": "5d95bc86-c9dc-4d4b-b179-1b4b05d4dc9f"
      },
      "execution_count": null,
      "outputs": [
        {
          "output_type": "execute_result",
          "data": {
            "text/plain": [
              "int"
            ]
          },
          "metadata": {},
          "execution_count": 14
        }
      ]
    },
    {
      "cell_type": "code",
      "source": [
        "x=\"suckers\"\n",
        "type(x)"
      ],
      "metadata": {
        "colab": {
          "base_uri": "https://localhost:8080/"
        },
        "id": "5Hm8NhqSNNmB",
        "outputId": "cef00566-a831-4d89-a6a5-8cb184da65a2"
      },
      "execution_count": null,
      "outputs": [
        {
          "output_type": "execute_result",
          "data": {
            "text/plain": [
              "str"
            ]
          },
          "metadata": {},
          "execution_count": 17
        }
      ]
    },
    {
      "cell_type": "code",
      "source": [
        "x=10.35\n",
        "type(x)"
      ],
      "metadata": {
        "colab": {
          "base_uri": "https://localhost:8080/"
        },
        "id": "SDP943puNQX_",
        "outputId": "8a4d6c39-a0f0-41b0-942a-c97d32536777"
      },
      "execution_count": null,
      "outputs": [
        {
          "output_type": "execute_result",
          "data": {
            "text/plain": [
              "float"
            ]
          },
          "metadata": {},
          "execution_count": 18
        }
      ]
    },
    {
      "cell_type": "code",
      "source": [
        "x=input(\"enter your current mood: \")\n"
      ],
      "metadata": {
        "colab": {
          "base_uri": "https://localhost:8080/"
        },
        "id": "9YLIdE0HNV5v",
        "outputId": "57b55ff7-6731-4d6b-9613-fe3bfbb341d0"
      },
      "execution_count": null,
      "outputs": [
        {
          "name": "stdout",
          "output_type": "stream",
          "text": [
            "enter your current mood: neutral and nonchalant\n"
          ]
        }
      ]
    },
    {
      "cell_type": "code",
      "source": [
        "x=int(input())"
      ],
      "metadata": {
        "colab": {
          "base_uri": "https://localhost:8080/"
        },
        "id": "Me40cwqpNj5h",
        "outputId": "83dc3c77-24a8-4fe6-9aba-ae51500616b2"
      },
      "execution_count": null,
      "outputs": [
        {
          "name": "stdout",
          "output_type": "stream",
          "text": [
            "10\n"
          ]
        }
      ]
    },
    {
      "cell_type": "code",
      "source": [
        "x=int(input())\n",
        "print(x+5*100)"
      ],
      "metadata": {
        "colab": {
          "base_uri": "https://localhost:8080/"
        },
        "id": "ZspwS3pnNvXe",
        "outputId": "ca3d9eab-2b0a-45e3-8748-132036309c13"
      },
      "execution_count": null,
      "outputs": [
        {
          "output_type": "stream",
          "name": "stdout",
          "text": [
            "1000\n",
            "1500\n"
          ]
        }
      ]
    },
    {
      "cell_type": "code",
      "source": [
        "x=int(input(\"enter 1st no.\"))\n",
        "y=int(input(\"enter 2nd no.\"))\n",
        "print(x*5+y-3)"
      ],
      "metadata": {
        "colab": {
          "base_uri": "https://localhost:8080/"
        },
        "id": "ukprWQRXN_dw",
        "outputId": "de723df8-0485-4a4e-e038-30d5e8ed7f14"
      },
      "execution_count": null,
      "outputs": [
        {
          "output_type": "stream",
          "name": "stdout",
          "text": [
            "enter 1st no.2\n",
            "enter 2nd no.10\n",
            "17\n"
          ]
        }
      ]
    },
    {
      "cell_type": "code",
      "source": [
        "x=50\n"
      ],
      "metadata": {
        "id": "M3-8tetkOgF6"
      },
      "execution_count": null,
      "outputs": []
    },
    {
      "cell_type": "code",
      "source": [
        "x"
      ],
      "metadata": {
        "colab": {
          "base_uri": "https://localhost:8080/"
        },
        "id": "0WoGU2Bpn9Qm",
        "outputId": "dc2a794e-e22b-4cb4-aab2-e2cba4c073ff"
      },
      "execution_count": null,
      "outputs": [
        {
          "output_type": "execute_result",
          "data": {
            "text/plain": [
              "50"
            ]
          },
          "metadata": {},
          "execution_count": 2
        }
      ]
    },
    {
      "cell_type": "code",
      "source": [
        "mark=int(input())\n",
        "if mark >50 :\n",
        "  print(\"you pretentious brat,you did it!\")\n",
        "if mark ==50 :\n",
        "  print(\"average\")\n",
        "if mark <50 :\n",
        "  print(\"no wonder your parents hate u\")\n"
      ],
      "metadata": {
        "colab": {
          "base_uri": "https://localhost:8080/"
        },
        "id": "ebyH_UjCoEZN",
        "outputId": "d76a12bd-111f-47ed-cee2-954d35894f57"
      },
      "execution_count": null,
      "outputs": [
        {
          "output_type": "stream",
          "name": "stdout",
          "text": [
            "46\n",
            "no wonder your parents hate u\n"
          ]
        }
      ]
    },
    {
      "cell_type": "code",
      "source": [
        "salary=int(input())\n",
        "if salary >=250000 :\n",
        "  print(\"you're taxable\")\n",
        "  amt=(salary-250000)\n",
        "if salary <500000 :\n",
        "  print(amt*10/100)\n",
        "if salary >500000 :\n",
        "  print(amt*20/100)\n",
        "if salary <250000 :\n",
        "  print(\"you are not taxable\")"
      ],
      "metadata": {
        "colab": {
          "base_uri": "https://localhost:8080/"
        },
        "id": "Wm-QYA6IodPb",
        "outputId": "c1d13be3-6cb0-48e7-e88d-2ece7cc1bb51"
      },
      "execution_count": null,
      "outputs": [
        {
          "output_type": "stream",
          "name": "stdout",
          "text": [
            "350000\n",
            "you're taxable\n",
            "10000.0\n"
          ]
        }
      ]
    },
    {
      "cell_type": "code",
      "source": [
        "salary=int(input())\n",
        "if salary <250000 :\n",
        "  print(\"you aren't taxable\")\n",
        "if salary >=250000 and salary <=500000 :\n",
        "  amt=(salary-250000)\n",
        "  print(\"you are taxable \", amt*10/100)\n",
        "if salary >500000 and salary <=750000 :\n",
        "  print(\"you are taxable \", 250000/10 + (salary-500000)*20/100)\n",
        "if salary >750000 :\n",
        "  print(\"you are taxable \" , (250000)*10/100 + (750000-500000)*30/100 +(salary))"
      ],
      "metadata": {
        "colab": {
          "base_uri": "https://localhost:8080/"
        },
        "id": "xl9DqZaHoumi",
        "outputId": "f5e71d7c-2c1a-4902-a669-2fff9c564c97"
      },
      "execution_count": null,
      "outputs": [
        {
          "output_type": "stream",
          "name": "stdout",
          "text": [
            "274567\n",
            "you are taxable  2456.7\n"
          ]
        }
      ]
    },
    {
      "cell_type": "code",
      "source": [
        "x=10"
      ],
      "metadata": {
        "id": "Ie3TbdkgAqQm"
      },
      "execution_count": null,
      "outputs": []
    },
    {
      "cell_type": "code",
      "source": [
        "x=[1,2,3,4,5]\n",
        "print(x)\n",
        "print(type(x))"
      ],
      "metadata": {
        "colab": {
          "base_uri": "https://localhost:8080/"
        },
        "id": "VUpmaE3PAp_4",
        "outputId": "eba0c7d7-76bd-44f7-9053-3a982a4d8cd6"
      },
      "execution_count": null,
      "outputs": [
        {
          "output_type": "stream",
          "name": "stdout",
          "text": [
            "[1, 2, 3, 4, 5]\n",
            "<class 'list'>\n"
          ]
        }
      ]
    },
    {
      "cell_type": "code",
      "source": [
        "x=[10,20,30,40,50]\n",
        "x[0]"
      ],
      "metadata": {
        "colab": {
          "base_uri": "https://localhost:8080/"
        },
        "id": "VDawpz2HApz8",
        "outputId": "b9beee76-9861-456a-e920-2a9799518dd2"
      },
      "execution_count": null,
      "outputs": [
        {
          "output_type": "execute_result",
          "data": {
            "text/plain": [
              "10"
            ]
          },
          "metadata": {},
          "execution_count": 3
        }
      ]
    },
    {
      "cell_type": "code",
      "source": [
        "x=[10,20,30,40,]\n",
        "y=[15,25,35,45]\n",
        "x[0]*y[0]+x[1]*y[1]+x[2]*y[2]+x[3]*y[3]"
      ],
      "metadata": {
        "colab": {
          "base_uri": "https://localhost:8080/"
        },
        "id": "Z9GSFA6hApqk",
        "outputId": "b8598f38-6305-40e2-d190-e04d1f0b1a2e"
      },
      "execution_count": null,
      "outputs": [
        {
          "output_type": "execute_result",
          "data": {
            "text/plain": [
              "3500"
            ]
          },
          "metadata": {},
          "execution_count": 4
        }
      ]
    },
    {
      "cell_type": "code",
      "source": [
        "x=[\"Kerala\",\"Tamil Nadu\"]\n",
        "y=[\"Chennai\",\"Trivandrum\"]\n",
        "print(x[1]+ \" - \" +y[0])\n",
        "print(x[0]+ \" - \" +y[1])"
      ],
      "metadata": {
        "colab": {
          "base_uri": "https://localhost:8080/"
        },
        "id": "2AnlHp0cApel",
        "outputId": "fdcf1b6a-cf2c-4d44-adfe-74f84fd30989"
      },
      "execution_count": null,
      "outputs": [
        {
          "output_type": "stream",
          "name": "stdout",
          "text": [
            "Tamil Nadu - Chennai\n",
            "Kerala - Trivandrum\n"
          ]
        }
      ]
    },
    {
      "cell_type": "code",
      "source": [
        "x=[10,25,26,36,39,55]\n",
        "x[-1],x[-2],x[-3],x[-4]"
      ],
      "metadata": {
        "colab": {
          "base_uri": "https://localhost:8080/"
        },
        "id": "ZVlIahtKApMY",
        "outputId": "1b5c0d38-5e52-4749-bd87-78ae0f22af23"
      },
      "execution_count": null,
      "outputs": [
        {
          "output_type": "execute_result",
          "data": {
            "text/plain": [
              "(55, 39, 36, 26)"
            ]
          },
          "metadata": {},
          "execution_count": 7
        }
      ]
    },
    {
      "cell_type": "code",
      "source": [
        "x[-2]*x[-3]"
      ],
      "metadata": {
        "colab": {
          "base_uri": "https://localhost:8080/"
        },
        "id": "KVMLguGEBhnJ",
        "outputId": "324e0d8a-f250-4ac8-bb64-5374e2488fdf"
      },
      "execution_count": null,
      "outputs": [
        {
          "output_type": "execute_result",
          "data": {
            "text/plain": [
              "1404"
            ]
          },
          "metadata": {},
          "execution_count": 10
        }
      ]
    },
    {
      "cell_type": "code",
      "source": [
        "if x[5]==55:\n",
        "  print(\"x is equal to 5\")\n",
        "else:\n",
        "  print(\"x not equal to 5\")"
      ],
      "metadata": {
        "colab": {
          "base_uri": "https://localhost:8080/"
        },
        "id": "zkCi-JNUBhal",
        "outputId": "127b0207-c8fd-4b57-b7ba-4c7801bdfd4d"
      },
      "execution_count": null,
      "outputs": [
        {
          "output_type": "stream",
          "name": "stdout",
          "text": [
            "x is equal to 5\n"
          ]
        }
      ]
    },
    {
      "cell_type": "code",
      "source": [
        "x=\"Gayathri Ravi Kumar\"\n",
        "x[-8]\n",
        "x[11]"
      ],
      "metadata": {
        "colab": {
          "base_uri": "https://localhost:8080/",
          "height": 35
        },
        "id": "E9pxnzK2BhMC",
        "outputId": "8bb8b9ab-5047-4ee8-9579-c7c2009adcab"
      },
      "execution_count": null,
      "outputs": [
        {
          "output_type": "execute_result",
          "data": {
            "text/plain": [
              "'v'"
            ],
            "application/vnd.google.colaboratory.intrinsic+json": {
              "type": "string"
            }
          },
          "metadata": {},
          "execution_count": 12
        }
      ]
    },
    {
      "cell_type": "code",
      "source": [
        "if x[0]==x[-1] :\n",
        "  print(\"it's the same\")\n",
        "else:\n",
        "  print(\"u know it's not the same as it wasss\")"
      ],
      "metadata": {
        "colab": {
          "base_uri": "https://localhost:8080/"
        },
        "id": "XJX_onEvAowh",
        "outputId": "2e3da50e-fdff-477e-ec5f-05f1a7677b40"
      },
      "execution_count": null,
      "outputs": [
        {
          "output_type": "stream",
          "name": "stdout",
          "text": [
            "u know it's not the same as it wasss\n"
          ]
        }
      ]
    },
    {
      "cell_type": "code",
      "source": [
        "def gayathri():\n",
        "  print(\"im tired af i wanna cry\")"
      ],
      "metadata": {
        "id": "kjg42bqqo23M"
      },
      "execution_count": null,
      "outputs": []
    },
    {
      "cell_type": "code",
      "source": [
        "x=[10,25,26,36,39,55]\n",
        "for a in x:\n",
        "  print(a)"
      ],
      "metadata": {
        "colab": {
          "base_uri": "https://localhost:8080/"
        },
        "id": "R0Lyq_RACiL0",
        "outputId": "c950f491-52c4-4e70-9955-a9b8c910ce43"
      },
      "execution_count": null,
      "outputs": [
        {
          "output_type": "stream",
          "name": "stdout",
          "text": [
            "10\n",
            "25\n",
            "26\n",
            "36\n",
            "39\n",
            "55\n"
          ]
        }
      ]
    },
    {
      "cell_type": "code",
      "source": [
        "x=\"Gayathri Ravi Kumar\"\n",
        "for a in x:\n",
        "  print(a)"
      ],
      "metadata": {
        "id": "nnahla2wChpR",
        "colab": {
          "base_uri": "https://localhost:8080/"
        },
        "outputId": "59a70d16-7bd0-490b-a01d-ba2a53680842"
      },
      "execution_count": null,
      "outputs": [
        {
          "output_type": "stream",
          "name": "stdout",
          "text": [
            "G\n",
            "a\n",
            "y\n",
            "a\n",
            "t\n",
            "h\n",
            "r\n",
            "i\n",
            " \n",
            "R\n",
            "a\n",
            "v\n",
            "i\n",
            " \n",
            "K\n",
            "u\n",
            "m\n",
            "a\n",
            "r\n"
          ]
        }
      ]
    },
    {
      "cell_type": "code",
      "source": [
        "x=\"Gayathri Ravi Kumar\"\n",
        "for a in x:\n",
        "  if a==\"a\":\n",
        "    print (\"THIS LETTER IS AN 'a'\")\n",
        "  else:\n",
        "    print(\"this letter is not 'a'\")\n",
        "\n",
        "      "
      ],
      "metadata": {
        "id": "UOSW4U0GChf9",
        "colab": {
          "base_uri": "https://localhost:8080/"
        },
        "outputId": "da82f5b1-b11e-4020-ae30-6a4fd67647f5"
      },
      "execution_count": null,
      "outputs": [
        {
          "output_type": "stream",
          "name": "stdout",
          "text": [
            "this letter is not 'a'\n",
            "THIS LETTER IS AN 'a'\n",
            "this letter is not 'a'\n",
            "THIS LETTER IS AN 'a'\n",
            "this letter is not 'a'\n",
            "this letter is not 'a'\n",
            "this letter is not 'a'\n",
            "this letter is not 'a'\n",
            "this letter is not 'a'\n",
            "this letter is not 'a'\n",
            "THIS LETTER IS AN 'a'\n",
            "this letter is not 'a'\n",
            "this letter is not 'a'\n",
            "this letter is not 'a'\n",
            "this letter is not 'a'\n",
            "this letter is not 'a'\n",
            "this letter is not 'a'\n",
            "THIS LETTER IS AN 'a'\n",
            "this letter is not 'a'\n"
          ]
        }
      ]
    },
    {
      "cell_type": "code",
      "source": [
        "x=[10,25,26,36,39,55]\n",
        "k=0\n",
        "for a in x:\n",
        "  print(\"K=\",k)\n",
        "  print(\"A=\",a)\n",
        "  k=k+a\n",
        "  print(\"K+a=\",k)"
      ],
      "metadata": {
        "id": "p6McHmyAChWA",
        "colab": {
          "base_uri": "https://localhost:8080/"
        },
        "outputId": "0992d9c2-064b-4850-c1e3-ef85a80118b0"
      },
      "execution_count": null,
      "outputs": [
        {
          "output_type": "stream",
          "name": "stdout",
          "text": [
            "K= 0\n",
            "A= 10\n",
            "K+a= 10\n",
            "K= 10\n",
            "A= 25\n",
            "K+a= 35\n",
            "K= 35\n",
            "A= 26\n",
            "K+a= 61\n",
            "K= 61\n",
            "A= 36\n",
            "K+a= 97\n",
            "K= 97\n",
            "A= 39\n",
            "K+a= 136\n",
            "K= 136\n",
            "A= 55\n",
            "K+a= 191\n"
          ]
        }
      ]
    },
    {
      "cell_type": "code",
      "source": [
        "x=[10,20,30,40,50,60]\n",
        "k=0\n",
        "for a in x:\n",
        "  print(\"k=\", k)\n",
        "  print(\"a=\", a)\n",
        "  k=k+a\n",
        "  print(\"k+a=\", k)"
      ],
      "metadata": {
        "id": "pYHYlOWzChKj",
        "colab": {
          "base_uri": "https://localhost:8080/"
        },
        "outputId": "ae9df82d-bdae-454d-d1b9-376eb894213e"
      },
      "execution_count": null,
      "outputs": [
        {
          "output_type": "stream",
          "name": "stdout",
          "text": [
            "k= 0\n",
            "a= 10\n",
            "k+a= 10\n",
            "k= 10\n",
            "a= 20\n",
            "k+a= 30\n",
            "k= 30\n",
            "a= 30\n",
            "k+a= 60\n",
            "k= 60\n",
            "a= 40\n",
            "k+a= 100\n",
            "k= 100\n",
            "a= 50\n",
            "k+a= 150\n",
            "k= 150\n",
            "a= 60\n",
            "k+a= 210\n"
          ]
        }
      ]
    },
    {
      "cell_type": "code",
      "source": [
        "x=[10,20,30,40,50,60,60]\n",
        "k=0\n",
        "for a in x :\n",
        "  if a!=60 :\n",
        "   k=k+a\n",
        "   print(k)"
      ],
      "metadata": {
        "id": "YMvoik-5Cg-C",
        "colab": {
          "base_uri": "https://localhost:8080/"
        },
        "outputId": "9b06b120-31c0-4d8c-e19a-c901b2c882f1"
      },
      "execution_count": null,
      "outputs": [
        {
          "output_type": "stream",
          "name": "stdout",
          "text": [
            "10\n",
            "30\n",
            "60\n",
            "100\n",
            "150\n"
          ]
        }
      ]
    },
    {
      "cell_type": "code",
      "source": [
        "k=0\n",
        "for a in range(101) :\n",
        "  k=k+a\n",
        "  print(k)\n",
        "  "
      ],
      "metadata": {
        "id": "dmkf8U2JCgyH",
        "colab": {
          "base_uri": "https://localhost:8080/"
        },
        "outputId": "b1fafdf3-4c41-47fa-ec31-ac8a22417e7b"
      },
      "execution_count": null,
      "outputs": [
        {
          "output_type": "stream",
          "name": "stdout",
          "text": [
            "0\n",
            "1\n",
            "3\n",
            "6\n",
            "10\n",
            "15\n",
            "21\n",
            "28\n",
            "36\n",
            "45\n",
            "55\n",
            "66\n",
            "78\n",
            "91\n",
            "105\n",
            "120\n",
            "136\n",
            "153\n",
            "171\n",
            "190\n",
            "210\n",
            "231\n",
            "253\n",
            "276\n",
            "300\n",
            "325\n",
            "351\n",
            "378\n",
            "406\n",
            "435\n",
            "465\n",
            "496\n",
            "528\n",
            "561\n",
            "595\n",
            "630\n",
            "666\n",
            "703\n",
            "741\n",
            "780\n",
            "820\n",
            "861\n",
            "903\n",
            "946\n",
            "990\n",
            "1035\n",
            "1081\n",
            "1128\n",
            "1176\n",
            "1225\n",
            "1275\n",
            "1326\n",
            "1378\n",
            "1431\n",
            "1485\n",
            "1540\n",
            "1596\n",
            "1653\n",
            "1711\n",
            "1770\n",
            "1830\n",
            "1891\n",
            "1953\n",
            "2016\n",
            "2080\n",
            "2145\n",
            "2211\n",
            "2278\n",
            "2346\n",
            "2415\n",
            "2485\n",
            "2556\n",
            "2628\n",
            "2701\n",
            "2775\n",
            "2850\n",
            "2926\n",
            "3003\n",
            "3081\n",
            "3160\n",
            "3240\n",
            "3321\n",
            "3403\n",
            "3486\n",
            "3570\n",
            "3655\n",
            "3741\n",
            "3828\n",
            "3916\n",
            "4005\n",
            "4095\n",
            "4186\n",
            "4278\n",
            "4371\n",
            "4465\n",
            "4560\n",
            "4656\n",
            "4753\n",
            "4851\n",
            "4950\n",
            "5050\n"
          ]
        }
      ]
    },
    {
      "cell_type": "code",
      "source": [
        "k=1\n",
        "for a in range(101) :\n",
        "  if a !=0 :\n",
        "   k=k*a\n",
        "  print(k)"
      ],
      "metadata": {
        "colab": {
          "base_uri": "https://localhost:8080/"
        },
        "id": "MVSTETBMFMa0",
        "outputId": "92addbce-3c0b-4a56-9e41-b933a398d63b"
      },
      "execution_count": null,
      "outputs": [
        {
          "output_type": "stream",
          "name": "stdout",
          "text": [
            "1\n",
            "1\n",
            "2\n",
            "6\n",
            "24\n",
            "120\n",
            "720\n",
            "5040\n",
            "40320\n",
            "362880\n",
            "3628800\n",
            "39916800\n",
            "479001600\n",
            "6227020800\n",
            "87178291200\n",
            "1307674368000\n",
            "20922789888000\n",
            "355687428096000\n",
            "6402373705728000\n",
            "121645100408832000\n",
            "2432902008176640000\n",
            "51090942171709440000\n",
            "1124000727777607680000\n",
            "25852016738884976640000\n",
            "620448401733239439360000\n",
            "15511210043330985984000000\n",
            "403291461126605635584000000\n",
            "10888869450418352160768000000\n",
            "304888344611713860501504000000\n",
            "8841761993739701954543616000000\n",
            "265252859812191058636308480000000\n",
            "8222838654177922817725562880000000\n",
            "263130836933693530167218012160000000\n",
            "8683317618811886495518194401280000000\n",
            "295232799039604140847618609643520000000\n",
            "10333147966386144929666651337523200000000\n",
            "371993326789901217467999448150835200000000\n",
            "13763753091226345046315979581580902400000000\n",
            "523022617466601111760007224100074291200000000\n",
            "20397882081197443358640281739902897356800000000\n",
            "815915283247897734345611269596115894272000000000\n",
            "33452526613163807108170062053440751665152000000000\n",
            "1405006117752879898543142606244511569936384000000000\n",
            "60415263063373835637355132068513997507264512000000000\n",
            "2658271574788448768043625811014615890319638528000000000\n",
            "119622220865480194561963161495657715064383733760000000000\n",
            "5502622159812088949850305428800254892961651752960000000000\n",
            "258623241511168180642964355153611979969197632389120000000000\n",
            "12413915592536072670862289047373375038521486354677760000000000\n",
            "608281864034267560872252163321295376887552831379210240000000000\n",
            "30414093201713378043612608166064768844377641568960512000000000000\n",
            "1551118753287382280224243016469303211063259720016986112000000000000\n",
            "80658175170943878571660636856403766975289505440883277824000000000000\n",
            "4274883284060025564298013753389399649690343788366813724672000000000000\n",
            "230843697339241380472092742683027581083278564571807941132288000000000000\n",
            "12696403353658275925965100847566516959580321051449436762275840000000000000\n",
            "710998587804863451854045647463724949736497978881168458687447040000000000000\n",
            "40526919504877216755680601905432322134980384796226602145184481280000000000000\n",
            "2350561331282878571829474910515074683828862318181142924420699914240000000000000\n",
            "138683118545689835737939019720389406345902876772687432540821294940160000000000000\n",
            "8320987112741390144276341183223364380754172606361245952449277696409600000000000000\n",
            "507580213877224798800856812176625227226004528988036003099405939480985600000000000000\n",
            "31469973260387937525653122354950764088012280797258232192163168247821107200000000000000\n",
            "1982608315404440064116146708361898137544773690227268628106279599612729753600000000000000\n",
            "126886932185884164103433389335161480802865516174545192198801894375214704230400000000000000\n",
            "8247650592082470666723170306785496252186258551345437492922123134388955774976000000000000000\n",
            "544344939077443064003729240247842752644293064388798874532860126869671081148416000000000000000\n",
            "36471110918188685288249859096605464427167635314049524593701628500267962436943872000000000000000\n",
            "2480035542436830599600990418569171581047399201355367672371710738018221445712183296000000000000000\n",
            "171122452428141311372468338881272839092270544893520369393648040923257279754140647424000000000000000\n",
            "11978571669969891796072783721689098736458938142546425857555362864628009582789845319680000000000000000\n",
            "850478588567862317521167644239926010288584608120796235886430763388588680378079017697280000000000000000\n",
            "61234458376886086861524070385274672740778091784697328983823014963978384987221689274204160000000000000000\n",
            "4470115461512684340891257138125051110076800700282905015819080092370422104067183317016903680000000000000000\n",
            "330788544151938641225953028221253782145683251820934971170611926835411235700971565459250872320000000000000000\n",
            "24809140811395398091946477116594033660926243886570122837795894512655842677572867409443815424000000000000000000\n",
            "1885494701666050254987932260861146558230394535379329335672487982961844043495537923117729972224000000000000000000\n",
            "145183092028285869634070784086308284983740379224208358846781574688061991349156420080065207861248000000000000000000\n",
            "11324281178206297831457521158732046228731749579488251990048962825668835325234200766245086213177344000000000000000000\n",
            "894618213078297528685144171539831652069808216779571907213868063227837990693501860533361810841010176000000000000000000\n",
            "71569457046263802294811533723186532165584657342365752577109445058227039255480148842668944867280814080000000000000000000\n",
            "5797126020747367985879734231578109105412357244731625958745865049716390179693892056256184534249745940480000000000000000000\n",
            "475364333701284174842138206989404946643813294067993328617160934076743994734899148613007131808479167119360000000000000000000\n",
            "39455239697206586511897471180120610571436503407643446275224357528369751562996629334879591940103770870906880000000000000000000\n",
            "3314240134565353266999387579130131288000666286242049487118846032383059131291716864129885722968716753156177920000000000000000000\n",
            "281710411438055027694947944226061159480056634330574206405101912752560026159795933451040286452340924018275123200000000000000000000\n",
            "24227095383672732381765523203441259715284870552429381750838764496720162249742450276789464634901319465571660595200000000000000000000\n",
            "2107757298379527717213600518699389595229783738061356212322972511214654115727593174080683423236414793504734471782400000000000000000000\n",
            "185482642257398439114796845645546284380220968949399346684421580986889562184028199319100141244804501828416633516851200000000000000000000\n",
            "16507955160908461081216919262453619309839666236496541854913520707833171034378509739399912570787600662729080382999756800000000000000000000\n",
            "1485715964481761497309522733620825737885569961284688766942216863704985393094065876545992131370884059645617234469978112000000000000000000000\n",
            "135200152767840296255166568759495142147586866476906677791741734597153670771559994765685283954750449427751168336768008192000000000000000000000\n",
            "12438414054641307255475324325873553077577991715875414356840239582938137710983519518443046123837041347353107486982656753664000000000000000000000\n",
            "1156772507081641574759205162306240436214753229576413535186142281213246807121467315215203289516844845303838996289387078090752000000000000000000000\n",
            "108736615665674308027365285256786601004186803580182872307497374434045199869417927630229109214583415458560865651202385340530688000000000000000000000\n",
            "10329978488239059262599702099394727095397746340117372869212250571234293987594703124871765375385424468563282236864226607350415360000000000000000000000\n",
            "991677934870949689209571401541893801158183648651267795444376054838492222809091499987689476037000748982075094738965754305639874560000000000000000000000\n",
            "96192759682482119853328425949563698712343813919172976158104477319333745612481875498805879175589072651261284189679678167647067832320000000000000000000000\n",
            "9426890448883247745626185743057242473809693764078951663494238777294707070023223798882976159207729119823605850588608460429412647567360000000000000000000000\n",
            "933262154439441526816992388562667004907159682643816214685929638952175999932299156089414639761565182862536979208272237582511852109168640000000000000000000000\n",
            "93326215443944152681699238856266700490715968264381621468592963895217599993229915608941463976156518286253697920827223758251185210916864000000000000000000000000\n"
          ]
        }
      ]
    },
    {
      "cell_type": "code",
      "source": [
        "a=0\n",
        "while a<10:\n",
        "  print(a)\n",
        "  a=a+1"
      ],
      "metadata": {
        "colab": {
          "base_uri": "https://localhost:8080/"
        },
        "id": "YG0om4XTFMPW",
        "outputId": "82f3b125-0bfc-481b-fd1e-24ed5d542799"
      },
      "execution_count": null,
      "outputs": [
        {
          "output_type": "stream",
          "name": "stdout",
          "text": [
            "0\n",
            "1\n",
            "2\n",
            "3\n",
            "4\n",
            "5\n",
            "6\n",
            "7\n",
            "8\n",
            "9\n"
          ]
        }
      ]
    },
    {
      "cell_type": "code",
      "source": [
        "a=0\n",
        "k=0\n",
        "while a<101:\n",
        "  if a!=0 :\n",
        "   k=k+a\n",
        "  a=a+1\n",
        "  print(k)"
      ],
      "metadata": {
        "colab": {
          "base_uri": "https://localhost:8080/"
        },
        "id": "YJmbdmjnFMDY",
        "outputId": "69615a89-8cde-4e48-bc37-40c6392286cb"
      },
      "execution_count": null,
      "outputs": [
        {
          "output_type": "stream",
          "name": "stdout",
          "text": [
            "0\n",
            "1\n",
            "3\n",
            "6\n",
            "10\n",
            "15\n",
            "21\n",
            "28\n",
            "36\n",
            "45\n",
            "55\n",
            "66\n",
            "78\n",
            "91\n",
            "105\n",
            "120\n",
            "136\n",
            "153\n",
            "171\n",
            "190\n",
            "210\n",
            "231\n",
            "253\n",
            "276\n",
            "300\n",
            "325\n",
            "351\n",
            "378\n",
            "406\n",
            "435\n",
            "465\n",
            "496\n",
            "528\n",
            "561\n",
            "595\n",
            "630\n",
            "666\n",
            "703\n",
            "741\n",
            "780\n",
            "820\n",
            "861\n",
            "903\n",
            "946\n",
            "990\n",
            "1035\n",
            "1081\n",
            "1128\n",
            "1176\n",
            "1225\n",
            "1275\n",
            "1326\n",
            "1378\n",
            "1431\n",
            "1485\n",
            "1540\n",
            "1596\n",
            "1653\n",
            "1711\n",
            "1770\n",
            "1830\n",
            "1891\n",
            "1953\n",
            "2016\n",
            "2080\n",
            "2145\n",
            "2211\n",
            "2278\n",
            "2346\n",
            "2415\n",
            "2485\n",
            "2556\n",
            "2628\n",
            "2701\n",
            "2775\n",
            "2850\n",
            "2926\n",
            "3003\n",
            "3081\n",
            "3160\n",
            "3240\n",
            "3321\n",
            "3403\n",
            "3486\n",
            "3570\n",
            "3655\n",
            "3741\n",
            "3828\n",
            "3916\n",
            "4005\n",
            "4095\n",
            "4186\n",
            "4278\n",
            "4371\n",
            "4465\n",
            "4560\n",
            "4656\n",
            "4753\n",
            "4851\n",
            "4950\n",
            "5050\n"
          ]
        }
      ]
    },
    {
      "cell_type": "code",
      "source": [
        "a=1\n",
        "k=1\n",
        "while a<101:\n",
        "  if a!=0 :\n",
        "   k=k*a\n",
        "  a=a+1\n",
        "  print(k)"
      ],
      "metadata": {
        "colab": {
          "base_uri": "https://localhost:8080/"
        },
        "id": "uUti65PoFL2x",
        "outputId": "8d5d69cf-0522-43bf-bfb8-7b59041835f0"
      },
      "execution_count": null,
      "outputs": [
        {
          "output_type": "stream",
          "name": "stdout",
          "text": [
            "1\n",
            "2\n",
            "6\n",
            "24\n",
            "120\n",
            "720\n",
            "5040\n",
            "40320\n",
            "362880\n",
            "3628800\n",
            "39916800\n",
            "479001600\n",
            "6227020800\n",
            "87178291200\n",
            "1307674368000\n",
            "20922789888000\n",
            "355687428096000\n",
            "6402373705728000\n",
            "121645100408832000\n",
            "2432902008176640000\n",
            "51090942171709440000\n",
            "1124000727777607680000\n",
            "25852016738884976640000\n",
            "620448401733239439360000\n",
            "15511210043330985984000000\n",
            "403291461126605635584000000\n",
            "10888869450418352160768000000\n",
            "304888344611713860501504000000\n",
            "8841761993739701954543616000000\n",
            "265252859812191058636308480000000\n",
            "8222838654177922817725562880000000\n",
            "263130836933693530167218012160000000\n",
            "8683317618811886495518194401280000000\n",
            "295232799039604140847618609643520000000\n",
            "10333147966386144929666651337523200000000\n",
            "371993326789901217467999448150835200000000\n",
            "13763753091226345046315979581580902400000000\n",
            "523022617466601111760007224100074291200000000\n",
            "20397882081197443358640281739902897356800000000\n",
            "815915283247897734345611269596115894272000000000\n",
            "33452526613163807108170062053440751665152000000000\n",
            "1405006117752879898543142606244511569936384000000000\n",
            "60415263063373835637355132068513997507264512000000000\n",
            "2658271574788448768043625811014615890319638528000000000\n",
            "119622220865480194561963161495657715064383733760000000000\n",
            "5502622159812088949850305428800254892961651752960000000000\n",
            "258623241511168180642964355153611979969197632389120000000000\n",
            "12413915592536072670862289047373375038521486354677760000000000\n",
            "608281864034267560872252163321295376887552831379210240000000000\n",
            "30414093201713378043612608166064768844377641568960512000000000000\n",
            "1551118753287382280224243016469303211063259720016986112000000000000\n",
            "80658175170943878571660636856403766975289505440883277824000000000000\n",
            "4274883284060025564298013753389399649690343788366813724672000000000000\n",
            "230843697339241380472092742683027581083278564571807941132288000000000000\n",
            "12696403353658275925965100847566516959580321051449436762275840000000000000\n",
            "710998587804863451854045647463724949736497978881168458687447040000000000000\n",
            "40526919504877216755680601905432322134980384796226602145184481280000000000000\n",
            "2350561331282878571829474910515074683828862318181142924420699914240000000000000\n",
            "138683118545689835737939019720389406345902876772687432540821294940160000000000000\n",
            "8320987112741390144276341183223364380754172606361245952449277696409600000000000000\n",
            "507580213877224798800856812176625227226004528988036003099405939480985600000000000000\n",
            "31469973260387937525653122354950764088012280797258232192163168247821107200000000000000\n",
            "1982608315404440064116146708361898137544773690227268628106279599612729753600000000000000\n",
            "126886932185884164103433389335161480802865516174545192198801894375214704230400000000000000\n",
            "8247650592082470666723170306785496252186258551345437492922123134388955774976000000000000000\n",
            "544344939077443064003729240247842752644293064388798874532860126869671081148416000000000000000\n",
            "36471110918188685288249859096605464427167635314049524593701628500267962436943872000000000000000\n",
            "2480035542436830599600990418569171581047399201355367672371710738018221445712183296000000000000000\n",
            "171122452428141311372468338881272839092270544893520369393648040923257279754140647424000000000000000\n",
            "11978571669969891796072783721689098736458938142546425857555362864628009582789845319680000000000000000\n",
            "850478588567862317521167644239926010288584608120796235886430763388588680378079017697280000000000000000\n",
            "61234458376886086861524070385274672740778091784697328983823014963978384987221689274204160000000000000000\n",
            "4470115461512684340891257138125051110076800700282905015819080092370422104067183317016903680000000000000000\n",
            "330788544151938641225953028221253782145683251820934971170611926835411235700971565459250872320000000000000000\n",
            "24809140811395398091946477116594033660926243886570122837795894512655842677572867409443815424000000000000000000\n",
            "1885494701666050254987932260861146558230394535379329335672487982961844043495537923117729972224000000000000000000\n",
            "145183092028285869634070784086308284983740379224208358846781574688061991349156420080065207861248000000000000000000\n",
            "11324281178206297831457521158732046228731749579488251990048962825668835325234200766245086213177344000000000000000000\n",
            "894618213078297528685144171539831652069808216779571907213868063227837990693501860533361810841010176000000000000000000\n",
            "71569457046263802294811533723186532165584657342365752577109445058227039255480148842668944867280814080000000000000000000\n",
            "5797126020747367985879734231578109105412357244731625958745865049716390179693892056256184534249745940480000000000000000000\n",
            "475364333701284174842138206989404946643813294067993328617160934076743994734899148613007131808479167119360000000000000000000\n",
            "39455239697206586511897471180120610571436503407643446275224357528369751562996629334879591940103770870906880000000000000000000\n",
            "3314240134565353266999387579130131288000666286242049487118846032383059131291716864129885722968716753156177920000000000000000000\n",
            "281710411438055027694947944226061159480056634330574206405101912752560026159795933451040286452340924018275123200000000000000000000\n",
            "24227095383672732381765523203441259715284870552429381750838764496720162249742450276789464634901319465571660595200000000000000000000\n",
            "2107757298379527717213600518699389595229783738061356212322972511214654115727593174080683423236414793504734471782400000000000000000000\n",
            "185482642257398439114796845645546284380220968949399346684421580986889562184028199319100141244804501828416633516851200000000000000000000\n",
            "16507955160908461081216919262453619309839666236496541854913520707833171034378509739399912570787600662729080382999756800000000000000000000\n",
            "1485715964481761497309522733620825737885569961284688766942216863704985393094065876545992131370884059645617234469978112000000000000000000000\n",
            "135200152767840296255166568759495142147586866476906677791741734597153670771559994765685283954750449427751168336768008192000000000000000000000\n",
            "12438414054641307255475324325873553077577991715875414356840239582938137710983519518443046123837041347353107486982656753664000000000000000000000\n",
            "1156772507081641574759205162306240436214753229576413535186142281213246807121467315215203289516844845303838996289387078090752000000000000000000000\n",
            "108736615665674308027365285256786601004186803580182872307497374434045199869417927630229109214583415458560865651202385340530688000000000000000000000\n",
            "10329978488239059262599702099394727095397746340117372869212250571234293987594703124871765375385424468563282236864226607350415360000000000000000000000\n",
            "991677934870949689209571401541893801158183648651267795444376054838492222809091499987689476037000748982075094738965754305639874560000000000000000000000\n",
            "96192759682482119853328425949563698712343813919172976158104477319333745612481875498805879175589072651261284189679678167647067832320000000000000000000000\n",
            "9426890448883247745626185743057242473809693764078951663494238777294707070023223798882976159207729119823605850588608460429412647567360000000000000000000000\n",
            "933262154439441526816992388562667004907159682643816214685929638952175999932299156089414639761565182862536979208272237582511852109168640000000000000000000000\n",
            "93326215443944152681699238856266700490715968264381621468592963895217599993229915608941463976156518286253697920827223758251185210916864000000000000000000000000\n"
          ]
        }
      ]
    },
    {
      "cell_type": "code",
      "source": [
        "a=0\n",
        "while a<10:\n",
        "  a=a+1\n",
        "  if a==5:\n",
        "    break;\n",
        "  print(a)"
      ],
      "metadata": {
        "colab": {
          "base_uri": "https://localhost:8080/"
        },
        "id": "hRN0oVLYFzW7",
        "outputId": "04cdc988-95cf-4fc8-97a4-16edb2747704"
      },
      "execution_count": null,
      "outputs": [
        {
          "output_type": "stream",
          "name": "stdout",
          "text": [
            "1\n",
            "2\n",
            "3\n",
            "4\n"
          ]
        }
      ]
    },
    {
      "cell_type": "code",
      "source": [
        "a=0\n",
        "while a<10:\n",
        "  a=a+1\n",
        "  if a==5:\n",
        "    continue;\n",
        "  print(a)"
      ],
      "metadata": {
        "colab": {
          "base_uri": "https://localhost:8080/"
        },
        "id": "SRi4SgGhFzJY",
        "outputId": "652dada1-8666-4126-87bd-ed374a5c72b3"
      },
      "execution_count": null,
      "outputs": [
        {
          "output_type": "stream",
          "name": "stdout",
          "text": [
            "1\n",
            "2\n",
            "3\n",
            "4\n",
            "6\n",
            "7\n",
            "8\n",
            "9\n",
            "10\n"
          ]
        }
      ]
    },
    {
      "cell_type": "code",
      "source": [
        "gayathri()"
      ],
      "metadata": {
        "colab": {
          "base_uri": "https://localhost:8080/"
        },
        "id": "8uaa65Kcq13o",
        "outputId": "c4c3a3fb-3687-4c21-d60b-4954e276aa99"
      },
      "execution_count": null,
      "outputs": [
        {
          "output_type": "stream",
          "name": "stdout",
          "text": [
            "im tired af i wanna cry\n"
          ]
        }
      ]
    },
    {
      "cell_type": "code",
      "source": [
        "def gayathri(x,y):\n",
        "  z=x+y\n",
        "  print(\"result=\",z)"
      ],
      "metadata": {
        "id": "RviAu0yhq4bw"
      },
      "execution_count": null,
      "outputs": []
    },
    {
      "cell_type": "code",
      "source": [
        "gayathri(5,3)"
      ],
      "metadata": {
        "colab": {
          "base_uri": "https://localhost:8080/"
        },
        "id": "2Ldzhv2rrGnz",
        "outputId": "2d7461f2-917c-4db7-cd72-04b9324dfe1a"
      },
      "execution_count": null,
      "outputs": [
        {
          "output_type": "stream",
          "name": "stdout",
          "text": [
            "result= 8\n"
          ]
        }
      ]
    },
    {
      "cell_type": "code",
      "source": [
        "def gayathri(x,y):\n",
        "  z=x-y\n",
        "  print(\"difference=\",z)"
      ],
      "metadata": {
        "id": "j6eJOSuerLto"
      },
      "execution_count": null,
      "outputs": []
    },
    {
      "cell_type": "code",
      "source": [
        "gayathri(20,13)"
      ],
      "metadata": {
        "colab": {
          "base_uri": "https://localhost:8080/"
        },
        "id": "ICv6bOk9rScc",
        "outputId": "100df253-519a-40ac-b08c-8208d077ef94"
      },
      "execution_count": null,
      "outputs": [
        {
          "output_type": "stream",
          "name": "stdout",
          "text": [
            "difference= 7\n"
          ]
        }
      ]
    },
    {
      "cell_type": "code",
      "source": [
        "def gayathri(salary):\n",
        "  if salary<=250000:\n",
        "    print(\"not taxable\")\n",
        "  if salary>250000:\n",
        "    print(\"taxable\")"
      ],
      "metadata": {
        "id": "AIybhqQnrVXZ"
      },
      "execution_count": null,
      "outputs": []
    },
    {
      "cell_type": "code",
      "source": [
        "x=int(input(\"enter a salary -\"))\n",
        "gayathri(x)"
      ],
      "metadata": {
        "colab": {
          "base_uri": "https://localhost:8080/"
        },
        "id": "87KNMtIgreOy",
        "outputId": "aae67c03-0195-42a3-95fe-07b1d84a7ad2"
      },
      "execution_count": null,
      "outputs": [
        {
          "output_type": "stream",
          "name": "stdout",
          "text": [
            "enter a salary -263400\n",
            "taxable\n"
          ]
        }
      ]
    },
    {
      "cell_type": "code",
      "source": [
        "def gayathri(y):\n",
        "  k=0\n",
        "  for a in range(y):\n",
        "    k=k+a\n",
        "  print(k)\n",
        "x=int(input(\"enter a number\"))\n",
        "gayathri(x)"
      ],
      "metadata": {
        "colab": {
          "base_uri": "https://localhost:8080/"
        },
        "id": "Ae8Fc2CIrmbm",
        "outputId": "6c2374c1-9dcb-42d3-f034-099ab16aded9"
      },
      "execution_count": null,
      "outputs": [
        {
          "output_type": "stream",
          "name": "stdout",
          "text": [
            "enter a number2679000\n",
            "3588519160500\n"
          ]
        }
      ]
    },
    {
      "cell_type": "code",
      "source": [
        "def add(x,y):\n",
        "  print(x+y)\n",
        "def sub(x,y):\n",
        "  print(x-y)\n",
        "def div(x,y):\n",
        "  print(x/y)\n",
        "def mul(x,y):\n",
        "  print(x*y)"
      ],
      "metadata": {
        "id": "PYIJS4MAsD2b"
      },
      "execution_count": null,
      "outputs": []
    },
    {
      "cell_type": "code",
      "source": [
        "x=int(input(\"enter the 1st number: \"))\n",
        "y=int(input(\"enter the 2nd number: \"))\n",
        "add(x,y)\n",
        "sub(x,y)\n",
        "div(x,y)\n",
        "mul(x,y)"
      ],
      "metadata": {
        "colab": {
          "base_uri": "https://localhost:8080/"
        },
        "id": "rh-E8XdLtWWY",
        "outputId": "91b482d1-40cb-4439-ee76-c5ce6a7fb2a2"
      },
      "execution_count": null,
      "outputs": [
        {
          "output_type": "stream",
          "name": "stdout",
          "text": [
            "enter the 1st number: 20\n",
            "enter the 2nd number: 30\n",
            "50\n",
            "-10\n",
            "0.6666666666666666\n",
            "600\n"
          ]
        }
      ]
    },
    {
      "cell_type": "code",
      "source": [],
      "metadata": {
        "id": "W4baIu4mtoqY"
      },
      "execution_count": null,
      "outputs": []
    }
  ]
}