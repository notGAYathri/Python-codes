{
  "cells": [
    {
      "cell_type": "markdown",
      "metadata": {
        "id": "view-in-github",
        "colab_type": "text"
      },
      "source": [
        "<a href=\"https://colab.research.google.com/github/notGAYathri/Python-codes/blob/main/Python_2.ipynb\" target=\"_parent\"><img src=\"https://colab.research.google.com/assets/colab-badge.svg\" alt=\"Open In Colab\"/></a>"
      ]
    },
    {
      "cell_type": "code",
      "execution_count": 1,
      "metadata": {
        "id": "u52kLcZLsOQB",
        "colab": {
          "base_uri": "https://localhost:8080/"
        },
        "outputId": "9e2acfcf-2289-4da0-d288-24f5c23b5da3"
      },
      "outputs": [
        {
          "output_type": "stream",
          "name": "stdout",
          "text": [
            "enter the marks10\n",
            "enter the marks20\n",
            "enter the marks30\n",
            "20.0\n"
          ]
        }
      ],
      "source": [
        "x= int(input(\"enter the marks\"))\n",
        "y= int(input(\"enter the marks\"))\n",
        "z= int(input(\"enter the marks\"))\n",
        "print((x+y+z)/3)"
      ]
    },
    {
      "cell_type": "code",
      "source": [
        "x= int(input(\"enter the marks\"))\n",
        "y= int(input(\"enter the marks\"))\n",
        "z= int(input(\"enter the marks\"))\n",
        "print(x+z+y)"
      ],
      "metadata": {
        "colab": {
          "base_uri": "https://localhost:8080/"
        },
        "id": "E1IEp3bSzfOR",
        "outputId": "6b850bbb-e028-4c87-cac9-71cfc42775ba"
      },
      "execution_count": 3,
      "outputs": [
        {
          "output_type": "stream",
          "name": "stdout",
          "text": [
            "enter the marks10\n",
            "enter the marks47\n",
            "enter the marks29\n",
            "86\n"
          ]
        }
      ]
    },
    {
      "cell_type": "code",
      "source": [
        "x=int(input(\"enter the marks-\"))\n",
        "y=int(input(\"enter the marks-\"))\n",
        "if x>y:\n",
        " print(x,\"is greater\")\n",
        "else:\n",
        "  print(y,\"is greater\")"
      ],
      "metadata": {
        "colab": {
          "base_uri": "https://localhost:8080/"
        },
        "id": "clqGM2TZzuk5",
        "outputId": "d3ac9791-4a7b-4d0b-ac04-ec337c24cb8b"
      },
      "execution_count": 4,
      "outputs": [
        {
          "output_type": "stream",
          "name": "stdout",
          "text": [
            "enter the marks-20\n",
            "enter the marks-40\n",
            "40 is greater\n"
          ]
        }
      ]
    },
    {
      "cell_type": "code",
      "source": [
        "x= int(input(\"enter the number 1- \"))\n",
        "y= int(input(\"enter the number 2- \"))\n",
        "z= int(input(\"enter the number 3- \"))\n",
        "if x>y and x>z:\n",
        "  print(nx,\"is greater than the rest\")\n",
        "if y>x and y>x:\n",
        "  print(y,\"is greater than the rest\")\n",
        "else:\n",
        "  print(z,\"is greater than the rest\")"
      ],
      "metadata": {
        "colab": {
          "base_uri": "https://localhost:8080/"
        },
        "id": "rvPltLuu0BwD",
        "outputId": "cd07779f-b8db-4a07-8ec3-d626f3be4c54"
      },
      "execution_count": 5,
      "outputs": [
        {
          "output_type": "stream",
          "name": "stdout",
          "text": [
            "enter the number 1- 49\n",
            "enter the number 2- 34\n",
            "enter the number 3- 56\n",
            "56 is greater than the rest\n"
          ]
        }
      ]
    },
    {
      "cell_type": "code",
      "source": [
        "x= int(input())\n",
        "if x%2==0:\n",
        "  print(\"this number is even\")\n",
        "else:\n",
        "  print(\"this number is real odd\")"
      ],
      "metadata": {
        "colab": {
          "base_uri": "https://localhost:8080/"
        },
        "id": "Tzj8rnMc0eSr",
        "outputId": "70594b52-25af-4168-a738-eb9975d6261e"
      },
      "execution_count": 6,
      "outputs": [
        {
          "output_type": "stream",
          "name": "stdout",
          "text": [
            "23\n",
            "this number is real odd\n"
          ]
        }
      ]
    },
    {
      "cell_type": "code",
      "source": [
        "for i in range(1,11):\n",
        "  print (i)"
      ],
      "metadata": {
        "colab": {
          "base_uri": "https://localhost:8080/"
        },
        "id": "v1exvtxN0r4x",
        "outputId": "b56c74b5-e7b3-462b-8107-38a376cb8395"
      },
      "execution_count": 7,
      "outputs": [
        {
          "output_type": "stream",
          "name": "stdout",
          "text": [
            "1\n",
            "2\n",
            "3\n",
            "4\n",
            "5\n",
            "6\n",
            "7\n",
            "8\n",
            "9\n",
            "10\n"
          ]
        }
      ]
    },
    {
      "cell_type": "code",
      "source": [
        "ts= str(input(\"Enter the Departure Location - \"))\n",
        "arrival= str(input(\"Enter the Destination - \"))\n",
        "no= int(input(\"Enter Number of Passengers - \"))\n",
        "print(\"TRAVEL SOURCE - \", ts)\n",
        "print(\"DESTINATION - \", arrival)\n",
        "print(\"NUMBER OF PASSENGERS - \", no)"
      ],
      "metadata": {
        "colab": {
          "base_uri": "https://localhost:8080/"
        },
        "id": "KBlPV1CU0xfE",
        "outputId": "70ff9265-b5db-48c9-81d5-6992ff340e9e"
      },
      "execution_count": 8,
      "outputs": [
        {
          "output_type": "stream",
          "name": "stdout",
          "text": [
            "Enter the Departure Location - Timbaktu\n",
            "Enter the Destination - China\n",
            "Enter Number of Passengers - 209\n",
            "TRAVEL SOURCE -  Timbaktu\n",
            "DESTINATION -  China\n",
            "NUMBER OF PASSENGERS -  209\n"
          ]
        }
      ]
    },
    {
      "cell_type": "code",
      "source": [
        "x= str(input(\"Enter Passenger Name - \"))\n",
        "y= int(input(\"Enter Ticket Fare - \"))\n",
        "print(x , \"-\" , y)"
      ],
      "metadata": {
        "colab": {
          "base_uri": "https://localhost:8080/"
        },
        "id": "F75QfR1D1Azn",
        "outputId": "ce101f85-4816-420b-8bdc-193d114fb6ad"
      },
      "execution_count": 11,
      "outputs": [
        {
          "output_type": "stream",
          "name": "stdout",
          "text": [
            "Enter Passenger Name - Addie\n",
            "Enter Ticket Fare - 210\n",
            "Addie - 210\n"
          ]
        }
      ]
    },
    {
      "cell_type": "code",
      "source": [
        "x= int(input(\"Enter Total Ticket Fare - \"))\n",
        "y= int(input(\"Number of Passengers - \"))\n",
        "print(\"Ticket Fare Per Person - \", x/y)"
      ],
      "metadata": {
        "colab": {
          "base_uri": "https://localhost:8080/"
        },
        "id": "Y4keUN4h1PiI",
        "outputId": "cbe4364b-cf81-4eb7-9643-6435ab7f7e15"
      },
      "execution_count": 12,
      "outputs": [
        {
          "output_type": "stream",
          "name": "stdout",
          "text": [
            "Enter Total Ticket Fare - 200309\n",
            "Number of Passengers - 256\n",
            "Ticket Fare Per Person -  782.45703125\n"
          ]
        }
      ]
    },
    {
      "cell_type": "code",
      "source": [
        "x= int(input(\"The Total Ticket Fare - \"))\n",
        "if x>10000:\n",
        "  print(\"Eligible for Discount\")\n",
        "else:\n",
        "  print(\"Ineligible for Discount\")"
      ],
      "metadata": {
        "colab": {
          "base_uri": "https://localhost:8080/"
        },
        "id": "2zxBzkrt1WAP",
        "outputId": "c728b686-c7cd-4842-8edd-dff934ce508e"
      },
      "execution_count": 13,
      "outputs": [
        {
          "output_type": "stream",
          "name": "stdout",
          "text": [
            "The Total Ticket Fare - 21590\n",
            "Eligible for Discount\n"
          ]
        }
      ]
    },
    {
      "cell_type": "code",
      "source": [
        "x= int(input(\"Enter the Total Ticket Fare - \"))\n",
        "if x>15000:\n",
        "  print(\"Eligible for 20% Discount\")\n",
        "else:\n",
        "  print(\"Eligible for 10% Discount\")"
      ],
      "metadata": {
        "colab": {
          "base_uri": "https://localhost:8080/"
        },
        "id": "BMD20zTk1eJ1",
        "outputId": "8586acd4-84df-4f1c-89f8-a4fb50eaeb36"
      },
      "execution_count": 14,
      "outputs": [
        {
          "output_type": "stream",
          "name": "stdout",
          "text": [
            "Enter the Total Ticket Fare - 12345\n",
            "Eligible for 10% Discount\n"
          ]
        }
      ]
    },
    {
      "cell_type": "code",
      "source": [
        "x= int(input(\"Enter the Total Ticket Fare - \"))\n",
        "if x<10000:\n",
        "  print(x-(5/100*x))\n",
        "  print(\"Applied 5% Discount\")\n",
        "elif x>10000:\n",
        "  print(x-(10/100*x))\n",
        "  print(\"Applied 10% Discount\")\n",
        "elif x>15000:\n",
        "  print(x-(20/100*x))\n",
        "  print(\"Applied 20% Discount\")"
      ],
      "metadata": {
        "colab": {
          "base_uri": "https://localhost:8080/"
        },
        "id": "C-vgo1B01oI9",
        "outputId": "47d0822e-b92d-46c7-8989-e8fbd401595e"
      },
      "execution_count": 15,
      "outputs": [
        {
          "output_type": "stream",
          "name": "stdout",
          "text": [
            "Enter the Total Ticket Fare - 127654\n",
            "114888.6\n",
            "Applied 10% Discount\n"
          ]
        }
      ]
    },
    {
      "cell_type": "code",
      "source": [
        "x= int(input(\"Enter Number - \"))\n",
        "if x>0:\n",
        "  print(\"The Number is Positive\")\n",
        "elif x<0:\n",
        "  print(\"The Number is Negative\")\n",
        "else:\n",
        "  print(\"The Number is 0\")"
      ],
      "metadata": {
        "colab": {
          "base_uri": "https://localhost:8080/"
        },
        "id": "4QN2W_F81tmU",
        "outputId": "92cb12b6-94a0-4ec7-a772-c358a170edce"
      },
      "execution_count": 16,
      "outputs": [
        {
          "output_type": "stream",
          "name": "stdout",
          "text": [
            "Enter Number - 12\n",
            "The Number is Positive\n"
          ]
        }
      ]
    },
    {
      "cell_type": "code",
      "source": [
        "x= int(input(\"Enter The Age - \"))\n",
        "if x<2:\n",
        "  print(\"Infant\")\n",
        "elif x>=2 and x<=5:\n",
        "  print(\"Toddler\")\n",
        "elif x>=6 and x<=12:\n",
        "  print(\"Kid\")\n",
        "elif x>=13 and x<=18:\n",
        "  print(\"Teenager\")\n",
        "else:\n",
        "  print(\"Adult\")"
      ],
      "metadata": {
        "colab": {
          "base_uri": "https://localhost:8080/"
        },
        "id": "KaE69kav10vd",
        "outputId": "5efb23b6-4bb2-40d7-b4b8-73d2fd05453e"
      },
      "execution_count": 17,
      "outputs": [
        {
          "output_type": "stream",
          "name": "stdout",
          "text": [
            "Enter The Age - 21\n",
            "Adult\n"
          ]
        }
      ]
    },
    {
      "cell_type": "code",
      "source": [
        "x= str(input(\"Enter Initial - \"))\n",
        "if x==\"a\":\n",
        "  print(\"It's a Vowel\")\n",
        "elif x==\"e\":\n",
        "  print(\"It's a Vowel\")\n",
        "elif x==\"i\":\n",
        "  print(\"It's a Vowel\")\n",
        "elif x==\"o\":\n",
        "  print(\"It's a Vowel\")\n",
        "elif x==\"u\":\n",
        "  print(\"It's a Vowel\")\n",
        "else:\n",
        "  print(\"It's Not a Vowel\")"
      ],
      "metadata": {
        "colab": {
          "base_uri": "https://localhost:8080/"
        },
        "id": "diAn62sw15K_",
        "outputId": "9f2f8987-23a6-4bbb-c840-89dccc290fb3"
      },
      "execution_count": 18,
      "outputs": [
        {
          "output_type": "stream",
          "name": "stdout",
          "text": [
            "Enter Initial - S\n",
            "It's Not a Vowel\n"
          ]
        }
      ]
    },
    {
      "cell_type": "code",
      "source": [
        "x= str(input(\" Enter Name - \"))\n",
        "for a in x:\n",
        "  print(a)"
      ],
      "metadata": {
        "colab": {
          "base_uri": "https://localhost:8080/"
        },
        "id": "iHkGkVdc19sW",
        "outputId": "ced48dc2-8d9f-4e59-b1ef-6801e9c2139f"
      },
      "execution_count": 19,
      "outputs": [
        {
          "output_type": "stream",
          "name": "stdout",
          "text": [
            " Enter Name - Evelyn Hugo\n",
            "E\n",
            "v\n",
            "e\n",
            "l\n",
            "y\n",
            "n\n",
            " \n",
            "H\n",
            "u\n",
            "g\n",
            "o\n"
          ]
        }
      ]
    },
    {
      "cell_type": "code",
      "source": [
        "for a in range(44,89):\n",
        "  print(a)"
      ],
      "metadata": {
        "colab": {
          "base_uri": "https://localhost:8080/"
        },
        "id": "5uLYBjVu2An_",
        "outputId": "3da25b5a-7c8d-40db-da41-6681c18079b4"
      },
      "execution_count": 20,
      "outputs": [
        {
          "output_type": "stream",
          "name": "stdout",
          "text": [
            "44\n",
            "45\n",
            "46\n",
            "47\n",
            "48\n",
            "49\n",
            "50\n",
            "51\n",
            "52\n",
            "53\n",
            "54\n",
            "55\n",
            "56\n",
            "57\n",
            "58\n",
            "59\n",
            "60\n",
            "61\n",
            "62\n",
            "63\n",
            "64\n",
            "65\n",
            "66\n",
            "67\n",
            "68\n",
            "69\n",
            "70\n",
            "71\n",
            "72\n",
            "73\n",
            "74\n",
            "75\n",
            "76\n",
            "77\n",
            "78\n",
            "79\n",
            "80\n",
            "81\n",
            "82\n",
            "83\n",
            "84\n",
            "85\n",
            "86\n",
            "87\n",
            "88\n"
          ]
        }
      ]
    },
    {
      "cell_type": "code",
      "source": [
        "k=0\n",
        "for a in range(1,11):\n",
        "  k=k+a\n",
        "  print(k)"
      ],
      "metadata": {
        "colab": {
          "base_uri": "https://localhost:8080/"
        },
        "id": "h0FGT-892GL_",
        "outputId": "6c1dcc8d-18d4-4cdc-85fd-6df80d327066"
      },
      "execution_count": 21,
      "outputs": [
        {
          "output_type": "stream",
          "name": "stdout",
          "text": [
            "1\n",
            "3\n",
            "6\n",
            "10\n",
            "15\n",
            "21\n",
            "28\n",
            "36\n",
            "45\n",
            "55\n"
          ]
        }
      ]
    },
    {
      "cell_type": "code",
      "source": [
        "rows = 6\n",
        "for a in range(rows):\n",
        "    for b in range(a):\n",
        "        print(a, end=' ')\n",
        "    print('')"
      ],
      "metadata": {
        "colab": {
          "base_uri": "https://localhost:8080/"
        },
        "id": "NFm1GdvL2Lnv",
        "outputId": "96f45c56-7c1d-44b9-9e96-f9f5d64fbbcd"
      },
      "execution_count": 23,
      "outputs": [
        {
          "output_type": "stream",
          "name": "stdout",
          "text": [
            "\n",
            "1 \n",
            "2 2 \n",
            "3 3 3 \n",
            "4 4 4 4 \n",
            "5 5 5 5 5 \n"
          ]
        }
      ]
    },
    {
      "cell_type": "code",
      "source": [
        "k=0\n",
        "for a in range(1,6):\n",
        "  k=k+a\n",
        "  print(a,\" \",k)"
      ],
      "metadata": {
        "colab": {
          "base_uri": "https://localhost:8080/"
        },
        "id": "rteWEx5C2PiV",
        "outputId": "87a872c3-3f52-4cd5-ec42-c18375d067af"
      },
      "execution_count": 24,
      "outputs": [
        {
          "output_type": "stream",
          "name": "stdout",
          "text": [
            "1   1\n",
            "2   3\n",
            "3   6\n",
            "4   10\n",
            "5   15\n"
          ]
        }
      ]
    },
    {
      "cell_type": "code",
      "source": [],
      "metadata": {
        "id": "ROXrInAW2l7W"
      },
      "execution_count": null,
      "outputs": []
    }
  ],
  "metadata": {
    "colab": {
      "provenance": [],
      "collapsed_sections": [],
      "authorship_tag": "ABX9TyNPiTFulUKD2fxfw6f9snAG",
      "include_colab_link": true
    },
    "kernelspec": {
      "display_name": "Python 3",
      "name": "python3"
    },
    "language_info": {
      "name": "python"
    }
  },
  "nbformat": 4,
  "nbformat_minor": 0
}