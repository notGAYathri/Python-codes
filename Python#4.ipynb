{
  "nbformat": 4,
  "nbformat_minor": 0,
  "metadata": {
    "colab": {
      "provenance": [],
      "authorship_tag": "ABX9TyPonpydZlR5TsrEGBhTw8B4",
      "include_colab_link": true
    },
    "kernelspec": {
      "name": "python3",
      "display_name": "Python 3"
    },
    "language_info": {
      "name": "python"
    }
  },
  "cells": [
    {
      "cell_type": "markdown",
      "metadata": {
        "id": "view-in-github",
        "colab_type": "text"
      },
      "source": [
        "<a href=\"https://colab.research.google.com/github/notGAYathri/Python-codes/blob/main/Python%234.ipynb\" target=\"_parent\"><img src=\"https://colab.research.google.com/assets/colab-badge.svg\" alt=\"Open In Colab\"/></a>"
      ]
    },
    {
      "cell_type": "code",
      "execution_count": null,
      "metadata": {
        "colab": {
          "base_uri": "https://localhost:8080/"
        },
        "id": "4tJqPQkcqjG3",
        "outputId": "9c351427-53a8-46b0-ec5e-87e717468eeb"
      },
      "outputs": [
        {
          "output_type": "stream",
          "name": "stdout",
          "text": [
            "enter a number:20\n",
            "20\n",
            "40\n",
            "60\n",
            "80\n",
            "100\n",
            "120\n",
            "140\n",
            "160\n",
            "180\n",
            "200\n"
          ]
        }
      ],
      "source": [
        "x=int(input(\"enter a number:\"))\n",
        "for i in range(1,11):\n",
        "  print(x*i)"
      ]
    },
    {
      "cell_type": "code",
      "source": [
        "x=int(input(\"enter a number:\"))\n",
        "print(\"multiplication of\",x)\n",
        "for i in range(1,11):\n",
        "  \n",
        "  print(i,\"x\",x,\"=\",i*x)"
      ],
      "metadata": {
        "colab": {
          "base_uri": "https://localhost:8080/"
        },
        "id": "dhwAHmR6swUg",
        "outputId": "d1ba7121-b643-4e5d-cc85-621830b3cf02"
      },
      "execution_count": null,
      "outputs": [
        {
          "output_type": "stream",
          "name": "stdout",
          "text": [
            "enter a number:5\n",
            "multiplication of 5\n",
            "1 x 5 = 5\n",
            "2 x 5 = 10\n",
            "3 x 5 = 15\n",
            "4 x 5 = 20\n",
            "5 x 5 = 25\n",
            "6 x 5 = 30\n",
            "7 x 5 = 35\n",
            "8 x 5 = 40\n",
            "9 x 5 = 45\n",
            "10 x 5 = 50\n"
          ]
        }
      ]
    },
    {
      "cell_type": "code",
      "source": [
        "x=int(input(\"enter a number\"))\n",
        "i=1\n",
        "while(i<=10):\n",
        "  print(i*x)\n",
        "  i=i+1"
      ],
      "metadata": {
        "colab": {
          "base_uri": "https://localhost:8080/"
        },
        "id": "BPzrhtlPulNl",
        "outputId": "89d42213-73bc-4f20-8a86-8d8872bd9dd7"
      },
      "execution_count": null,
      "outputs": [
        {
          "output_type": "stream",
          "name": "stdout",
          "text": [
            "enter a number7\n",
            "7\n",
            "14\n",
            "21\n",
            "28\n",
            "35\n",
            "42\n",
            "49\n",
            "56\n",
            "63\n",
            "70\n"
          ]
        }
      ]
    },
    {
      "cell_type": "code",
      "source": [
        "x = 0\n",
        "y = int(input(\"Enter a number: \"))\n",
        "while (y > 0):\n",
        "  y = y//10\n",
        "  x = x + 1\n",
        "print(\"total digits:\",x)\n",
        "\n"
      ],
      "metadata": {
        "colab": {
          "base_uri": "https://localhost:8080/"
        },
        "id": "m5REpscDyOzx",
        "outputId": "48b238d2-f64b-48e9-e5a0-bdc8f92be7e7"
      },
      "execution_count": 23,
      "outputs": [
        {
          "output_type": "stream",
          "name": "stdout",
          "text": [
            "Enter a number: 234567453\n",
            "total digits: 9\n"
          ]
        }
      ]
    },
    {
      "cell_type": "code",
      "source": [
        "x=str(input(\"enter a word:\"))\n",
        "if x==x[::-1]:\n",
        "  print(\"this string is a palindrome :)\")\n",
        "else:\n",
        "  print(\"this string is NOT a palindrome :(\")\n"
      ],
      "metadata": {
        "id": "hVTQyTPz0par",
        "colab": {
          "base_uri": "https://localhost:8080/"
        },
        "outputId": "59261804-93d3-4a1f-f157-03a916143205"
      },
      "execution_count": 24,
      "outputs": [
        {
          "output_type": "stream",
          "name": "stdout",
          "text": [
            "enter a word:malayalam\n",
            "this string is a palindrome :)\n"
          ]
        }
      ]
    },
    {
      "cell_type": "code",
      "source": [
        "mark1=int(input(\"Enter marks:\"))\n",
        "mark2=int(input(\"Enter marks:\"))\n",
        "mark3=int(input(\"Enter marks:\"))\n",
        "mark4=int(input(\"Enter marks:\"))\n",
        "mark5=int(input(\"Enter marks:\"))\n",
        "avgmarks=mark1+mark2+mark3+mark4+mark5/5\n",
        "print(avgmarks)"
      ],
      "metadata": {
        "colab": {
          "base_uri": "https://localhost:8080/"
        },
        "id": "jKiXtTUx28Y9",
        "outputId": "bfe44fac-f3e3-4b13-97fd-1d7adafbe973"
      },
      "execution_count": 32,
      "outputs": [
        {
          "output_type": "stream",
          "name": "stdout",
          "text": [
            "Enter marks:20\n",
            "Enter marks:35\n",
            "Enter marks:25\n",
            "Enter marks:43\n",
            "Enter marks:23\n",
            "127.6\n"
          ]
        }
      ]
    },
    {
      "cell_type": "code",
      "source": [
        "mark1=int(input(\"Enter marks:\"))\n",
        "mark2=int(input(\"Enter marks:\"))\n",
        "mark3=int(input(\"Enter marks:\"))\n",
        "mark4=int(input(\"Enter marks:\"))\n",
        "mark5=int(input(\"Enter marks:\"))\n",
        "avgmarks=mark1+mark2+mark3+mark4+mark5/5\n",
        "print(round(avgmarks))"
      ],
      "metadata": {
        "colab": {
          "base_uri": "https://localhost:8080/"
        },
        "id": "dKQYO1O49zzo",
        "outputId": "01c7235e-c7f6-4a8c-e885-b1067341be43"
      },
      "execution_count": 33,
      "outputs": [
        {
          "output_type": "stream",
          "name": "stdout",
          "text": [
            "Enter marks:20\n",
            "Enter marks:35\n",
            "Enter marks:25\n",
            "Enter marks:43\n",
            "Enter marks:23\n",
            "128\n"
          ]
        }
      ]
    },
    {
      "cell_type": "code",
      "source": [
        "mark1=int(input(\"Enter marks:\"))\n",
        "mark2=int(input(\"Enter marks:\"))\n",
        "mark3=int(input(\"Enter marks:\"))\n",
        "mark4=int(input(\"Enter marks:\"))\n",
        "mark5=int(input(\"Enter marks:\"))\n",
        "print(max(mark1,mark2,mark3,mark4,mark5))"
      ],
      "metadata": {
        "colab": {
          "base_uri": "https://localhost:8080/"
        },
        "id": "31UBI10z-Zf2",
        "outputId": "0432f483-82fb-4b37-a8d6-f74777044318"
      },
      "execution_count": 34,
      "outputs": [
        {
          "output_type": "stream",
          "name": "stdout",
          "text": [
            "Enter marks:12\n",
            "Enter marks:65\n",
            "Enter marks:43\n",
            "Enter marks:26\n",
            "Enter marks:34\n",
            "65\n"
          ]
        }
      ]
    },
    {
      "cell_type": "code",
      "source": [
        "mark1=int(input(\"Enter marks:\"))\n",
        "mark2=int(input(\"Enter marks:\"))\n",
        "mark3=int(input(\"Enter marks:\"))\n",
        "mark4=int(input(\"Enter marks:\"))\n",
        "mark5=int(input(\"Enter marks:\"))\n",
        "print(min(mark1,mark2,mark3,mark4,mark5))"
      ],
      "metadata": {
        "colab": {
          "base_uri": "https://localhost:8080/"
        },
        "id": "F2Vc2Dy__FTg",
        "outputId": "d2d1ce3d-a107-4c34-b5c0-00ad7d55589d"
      },
      "execution_count": 35,
      "outputs": [
        {
          "output_type": "stream",
          "name": "stdout",
          "text": [
            "Enter marks:43\n",
            "Enter marks:53\n",
            "Enter marks:4\n",
            "Enter marks:26\n",
            "Enter marks:74\n",
            "4\n"
          ]
        }
      ]
    }
  ]
}